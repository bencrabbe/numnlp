{
 "cells": [
  {
   "cell_type": "markdown",
   "id": "edfedad6-6b02-4c04-a237-06016666d8ff",
   "metadata": {
    "editable": true,
    "slideshow": {
     "slide_type": ""
    },
    "tags": []
   },
   "source": [
    "Euclidean spaces : exercises \n",
    "======\n",
    "\n",
    "Implement the following functions with `numpy`"
   ]
  },
  {
   "cell_type": "code",
   "execution_count": 8,
   "id": "86382a85-14da-4009-bac6-07d6e90c70c7",
   "metadata": {
    "editable": true,
    "nbgrader": {
     "grade": false,
     "grade_id": "cell-07f8f2b2f5e66f98",
     "locked": false,
     "schema_version": 3,
     "solution": true,
     "task": false
    },
    "slideshow": {
     "slide_type": ""
    },
    "tags": []
   },
   "outputs": [],
   "source": [
    "import numpy as np\n",
    "\n",
    "\n",
    "def norm(x):\n",
    "    \"\"\"\n",
    "    Args:\n",
    "      x (np.array): vector\n",
    "    Returns:\n",
    "      float. the norm of x\n",
    "    \"\"\"\n",
    "    ### BEGIN SOLUTION\n",
    "    return np.sqrt(x @ x)\n",
    "    ### END SOLUTION\n",
    "\n",
    "def distance(x,y):\n",
    "    \"\"\"\n",
    "    Args:\n",
    "       x (np.array): vector\n",
    "       y (np.array): vector\n",
    "    Returns:\n",
    "       float. the euclidean distance between x and y \n",
    "    \"\"\"\n",
    "    ### BEGIN SOLUTION\n",
    "    return norm(x-y)\n",
    "    ### END SOLUTION\n",
    "\n",
    "def similarity(x,y):\n",
    "    \"\"\"\n",
    "    Args:\n",
    "       x (np.array): vector\n",
    "       y (np.array): vector\n",
    "    Returns:\n",
    "\tfloat. the cosine of the angle between x and y\n",
    "    \"\"\"\n",
    "    ### BEGIN SOLUTION\n",
    "    return (x @ y) / (norm(x) * norm(y))\n",
    "    ### END SOLUTION\n",
    "\n",
    "def is_orthogonal(x,y):\n",
    "    \"\"\"\n",
    "    Args:\n",
    "       x (np.array): vector\n",
    "       y (np.array): vector\n",
    "    Returns:\n",
    "\tbool. True if x and y are orthogonal, False otherwise. \n",
    "    \"\"\"\n",
    "    ### BEGIN SOLUTION\n",
    "    return similarity(x,y) == 0\n",
    "    ### END SOLUTION\n"
   ]
  },
  {
   "cell_type": "markdown",
   "id": "3650b98e-9e86-42c4-8ae6-3abc0909ee4c",
   "metadata": {},
   "source": [
    "Euclidean spaces\n",
    "===="
   ]
  },
  {
   "cell_type": "markdown",
   "id": "62c8d914-44b0-4b29-a996-f033c0d94ca5",
   "metadata": {},
   "source": [
    "Use numpy or the functions you defined above to solve the following exercises.\n",
    "Check manually that your solutions are correct."
   ]
  },
  {
   "cell_type": "code",
   "execution_count": 9,
   "id": "d0b09218-9620-468f-89e4-5e0def20d169",
   "metadata": {
    "editable": true,
    "nbgrader": {
     "grade": false,
     "grade_id": "cell-fe892b56e47d62ba",
     "locked": false,
     "schema_version": 3,
     "solution": true,
     "task": false
    },
    "slideshow": {
     "slide_type": ""
    },
    "tags": [
     "raise-exception",
     "remove-output"
    ]
   },
   "outputs": [
    {
     "name": "stdout",
     "output_type": "stream",
     "text": [
      "[2 6 3]\n",
      "[-4  4  1]\n",
      "[-0.18257419  0.91287093  0.36514837]\n",
      "2.8722813232690143\n",
      "[2 6 3]\n",
      "[-7  3  0]\n",
      "False\n",
      "False\n"
     ]
    }
   ],
   "source": [
    "# Vectors and distances\n",
    "\n",
    "x = np.array([-1,5,2])\n",
    "y = np.array([3,1,1])\n",
    "\n",
    "# Compute x + y\n",
    "### BEGIN SOLUTION\n",
    "print(x+y)\n",
    "### END SOLUTION\n",
    "\n",
    "# Compute x - y\n",
    "### BEGIN SOLUTION\n",
    "print(x-y)\n",
    "### END SOLUTION\n",
    "\n",
    "# Compute x / ||x||\n",
    "### BEGIN SOLUTION\n",
    "print(x/norm(x))\n",
    "### END SOLUTION\n",
    "\n",
    "# Compute || 0.5(x-y)||\n",
    "### BEGIN SOLUTION\n",
    "print( norm(0.5*(x-y)))\n",
    "### END SOLUTION\n",
    "\n",
    "# Compute || 0.5(x+y)||\n",
    "### BEGIN SOLUTION\n",
    "print(x+y)\n",
    "### END SOLUTION\n",
    "\n",
    "# Compute x - 2y\n",
    "### BEGIN SOLUTION\n",
    "print(x-2*y)\n",
    "### END SOLUTION\n",
    "\n",
    "# Does || x-y || = ||x|| - ||y|| ?\n",
    "### BEGIN SOLUTION\n",
    "print( norm(x-y) == norm(x) - norm(y) )\n",
    "### END SOLUTION\n",
    "\n",
    "\n",
    "# Does || x+y || = ||x|| + ||y|| ?\n",
    "### BEGIN SOLUTION\n",
    "print( norm(x+y) == norm(x) + norm(y) )\n",
    "### END SOLUTION\n"
   ]
  },
  {
   "cell_type": "code",
   "execution_count": 14,
   "id": "5490e0ee-b2fa-4bed-817f-35ff8fa6e713",
   "metadata": {
    "editable": true,
    "nbgrader": {
     "grade": false,
     "grade_id": "cell-26aff4ece8fcbf16",
     "locked": false,
     "schema_version": 3,
     "solution": true,
     "task": false
    },
    "slideshow": {
     "slide_type": ""
    },
    "tags": [
     "raise-exception",
     "remove-output"
    ]
   },
   "outputs": [
    {
     "name": "stdout",
     "output_type": "stream",
     "text": [
      "orth True\n",
      "orth False\n",
      "Cauchy Schwarz True\n",
      "Triangle True\n",
      "Cauchy Schwarz True\n",
      "Triangle True\n"
     ]
    }
   ],
   "source": [
    "# Angles\n",
    "\n",
    "#Compute the angle (in degrees) between x and y\n",
    "\n",
    "x = np.array([5,1,-2])\n",
    "y = np.array([4,-4,3])\n",
    "\n",
    "### BEGIN SOLUTION\n",
    "np.degrees(np.arccos(similarity(x,y)))\n",
    "### END SOLUTION\n",
    "\n",
    "#Compute the angle (in degrees) between x and y\n",
    "x = np.array([7,2,-10])\n",
    "y = np.array([2,6,4])\n",
    "\n",
    "### BEGIN SOLUTION\n",
    "np.degrees(np.arccos(similarity(x,y)))\n",
    "### END SOLUTION\n",
    "\n",
    "\n",
    "#Are x and y orthogonal ?\n",
    "\n",
    "x = np.array([8,4,3])\n",
    "y = np.array([-2,1,4])\n",
    "\n",
    "### BEGIN SOLUTION\n",
    "print('orth',similarity(x,y) == 0)\n",
    "### END SOLUTION\n",
    "\n",
    "#Are x and y orthogonal ?\n",
    "\n",
    "x = np.array([6,0,4])\n",
    "y = np.array([0,2,-1])\n",
    "\n",
    "### BEGIN SOLUTION\n",
    "print('orth',similarity(x,y) == 0)\n",
    "### END SOLUTION\n",
    "\n",
    "# Check Cauchy Schwarz is  true on the example:\n",
    "x = np.array([2,1,4])\n",
    "y = np.array([1,-2,0])\n",
    "\n",
    "### BEGIN SOLUTION\n",
    "print('Cauchy Schwarz', np.abs(x @ y) <= norm(x) * norm(y) )\n",
    "### END SOLUTION\n",
    "\n",
    "#Also check that the triangle inequality is true\n",
    "### BEGIN SOLUTION\n",
    "print('Triangle', norm(x + y) <= norm(x) + norm(y) )\n",
    "### END SOLUTION\n",
    "\n",
    "# Check Cauchy Schwarz is  true on the example:\n",
    "x = np.array([4,2,-1])\n",
    "y = np.array([8,4,-2])\n",
    "\n",
    "### BEGIN SOLUTION\n",
    "print(\"Cauchy Schwarz\",np.abs(x @ y) <= norm(x) * norm(y))\n",
    "### END SOLUTION\n",
    "\n",
    "#Also check that the triangle inequality is true\n",
    "### BEGIN SOLUTION\n",
    "print('Triangle',norm(x + y) <= norm(x) + norm(y))\n",
    "### END SOLUTION\n"
   ]
  }
 ],
 "metadata": {
  "kernelspec": {
   "display_name": "Python 3 (ipykernel)",
   "language": "python",
   "name": "python3"
  },
  "language_info": {
   "codemirror_mode": {
    "name": "ipython",
    "version": 3
   },
   "file_extension": ".py",
   "mimetype": "text/x-python",
   "name": "python",
   "nbconvert_exporter": "python",
   "pygments_lexer": "ipython3",
   "version": "3.10.0"
  }
 },
 "nbformat": 4,
 "nbformat_minor": 5
}
