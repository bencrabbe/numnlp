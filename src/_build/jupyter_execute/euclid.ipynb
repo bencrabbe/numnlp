{
 "cells": [
  {
   "cell_type": "markdown",
   "id": "6be01318",
   "metadata": {},
   "source": [
    "# The euclidean space\n",
    "\n",
    "This chapter  establishes a link between the notion of vector space with elementary notions of geometry. It is by introducing the dot product operation that we get the notions of norm, distance and angle. An **euclidean space** is a finite-dimensional vector space constructed over $\\mathbb{R}^n$ which is provided with an operation called the dot product. The dot product makes it possible to construct a formalization of the notions of vector length and angles between vectors. All this makes classical geometry (Euclid's geometry) computable and generalizable to cases of more than 2 and 3 dimensions.\n",
    "\n",
    "In a context of language modeling, the notions described in this chapter make it possible to formalize notions such as similarity or dissimilarity between language units, such as words, sentences, documents when represented by high dimensional vectors. \n",
    "This chapter eventually illustrates the application of high dimensional euclidean geometry to elementary information retrieval.\n",
    "\n",
    "## Dot product\n",
    "\n",
    "Given vectors $\\mathbf{x} \\in \\mathbb{R}^n$ and $\\mathbf{y} \\in \\mathbb{R}^n$ the **dot product** is a function of $\\mathbb{R} \\times \\mathbb{R} \\mapsto \\mathbb{R}$ defined as:\n",
    "\n",
    "$$\n",
    "\\mathbf{x}^\\top \\mathbf{y} = x_1 y_1 + \\ldots + x_n y_n =  \\sum_{i=1}^n x_i y_i\n",
    "$$\n",
    "\n",
    "Most of the time we write the dot product $\\mathbf{x}^\\top \\mathbf{y}$ but we'll sometimes also use  $\\mathbf{x} \\cdot \\mathbf{y}$ and we also find\n",
    " $\\langle \\mathbf{x},\\mathbf{y} \\rangle$.\n",
    " The dot product is **commutative** thus $\\mathbf{x}^\\top \\mathbf{y} = \\mathbf{y}^\\top \\mathbf{x}$, it is **positive definite** that is $\\mathbf{x} ^\\top \\mathbf{x} \\geq 0$ and equals 0 if and only if $\\mathbf{x}=\\mathbf{0}$. Finally it is **bilinear**, that is:\n",
    " \n",
    " $$\n",
    "\\begin{align}\n",
    "  a (\\mathbf{x} \\top \\mathbf{y}) &=  (a \\mathbf{x}^\\top \\mathbf{y})\n",
    "                                    = (\\mathbf{x}^\\top a\\mathbf{y})\\\\\n",
    "      (\\mathbf{x} + \\mathbf{y})^\\top \\mathbf{z}   &=    (\\mathbf{x}^\\top\n",
    "                                                      \\mathbf{z}) +   (\\mathbf{y}^\\top\n",
    "                                                      \\mathbf{z}) \\\\\n",
    "\\mathbf{x}^\\top  (\\mathbf{y} + \\mathbf{z})   &=    (\\mathbf{x}^\\top\n",
    "                                                      \\mathbf{y}) +   (\\mathbf{x}^\\top\n",
    "                                                      \\mathbf{z}) \n",
    "\\end{align}\n",
    "$$\n",
    "\n",
    " `````{admonition} Example\n",
    ":class: tip\n",
    " Here's an example:\n",
    "\n",
    "$$\n",
    "\\begin{bmatrix}\n",
    " -1\\\\\n",
    " 2\\\\\n",
    " 2\n",
    "\\end{bmatrix}^\\top \n",
    "\\begin{bmatrix}\n",
    "1\\\\\n",
    "0\\\\\n",
    "-3\n",
    "\\end{bmatrix}\n",
    "=-1 + 0 + -6 = -7\n",
    "$$\n",
    "`````\n",
    "\n",
    " `````{admonition} Example (lookup)\n",
    ":class: tip\n",
    "  The dot product $\\mathbf{e}\\cdot \\mathbf{x}$ involving a unit vector $\\mathbf{e}$ valued at 1 at position $j$ has the effect of **looking up** the value at position $j$ in $\\mathbf{x}$. For example:\n",
    "\n",
    "$$\n",
    "  \\begin{bmatrix}\n",
    "    0\\\\1\\\\0\\\\0\n",
    "  \\end{bmatrix}^T\n",
    "  \\begin{bmatrix}\n",
    "    21\\\\12\\\\-7\\\\3\n",
    "  \\end{bmatrix}\n",
    "  =  0 +  12 +0 + 0= 12\n",
    "$$ \n",
    " `````\n",
    "\n",
    " `````{admonition} Example (mean and average)\n",
    ":class: tip\n",
    "\n",
    "We get the **sum** of the vector components by computing the dot product with vector $\\mathbf{1}$. For instance:\n",
    "\n",
    "$$\n",
    "   \\begin{bmatrix}\n",
    "    1\\\\1\\\\1\\\\1 \n",
    "  \\end{bmatrix}^T\n",
    "  \\begin{bmatrix}\n",
    "    21\\\\12\\\\-7\\\\3 \n",
    "  \\end{bmatrix}\n",
    "  =\n",
    "21+12-7+3 = 29\n",
    "$$\n",
    "\n",
    "We can also compute the **average** of vector $\\mathbf{x}$ with size $k$ by computing\n",
    " $\\frac{1}{k} \\mathbf{1}^T \\mathbf{x} $, as illustrated here~:\n",
    "\n",
    "$$\n",
    "\\frac{1}{4}\n",
    "   \\begin{bmatrix}\n",
    "    1\\\\ 1 \\\\\\ 1 \\\\ 1 \n",
    "  \\end{bmatrix}^T\n",
    "  \\begin{bmatrix}\n",
    "    24\\\\16\\\\4\\\\0 \n",
    "  \\end{bmatrix}\n",
    "  =\n",
    "\\frac{1}{4}(24+16+4+0) = 11\n",
    "$$\n",
    "\n",
    " `````\n",
    "\n",
    "`````{admonition} Example (sum of squares)\n",
    ":class: tip\n",
    "We get the **sum of squares** of a vector's elements by computing $\\mathbf{x}^\\top \\mathbf{x}$:\n",
    "\n",
    "$$\n",
    "\\begin{bmatrix}\n",
    "    7\\\\2\\\\-3\n",
    "  \\end{bmatrix}^T\n",
    "  \\begin{bmatrix}\n",
    "    7\\\\2\\\\-3\n",
    "  \\end{bmatrix}\n",
    "  =\n",
    "  49+4+9 = 62\n",
    "$$\n",
    "`````\n",
    "\n",
    "## Euclidean norm\n",
    "\n",
    "The **euclidean norm** of vector $\\mathbf{x}\\in\\mathbb{R}^n$, written $||\\mathbf{x}||$\n",
    "is the map $\\mathbb{R}^n \\mapsto \\mathbb{R}_+$ such that:\n",
    "\n",
    "$$\n",
    "||\\mathbf{x}|| = \\sqrt{x_1^2+\\ldots + x_n^2}\n",
    "$$\n",
    "\n",
    "This is the square root of the sum of squares of $\\mathbf{x}$. The following definition is equivalent:\n",
    "\n",
    "$$\n",
    "||\\mathbf{x}|| = \\sqrt{\\mathbf{x}^T\\mathbf{x}}\n",
    "$$\n",
    "\n",
    "The norm is **positive definite**, that is $||\\mathbf{x}|| \\geq 0$ and $||\\mathbf{x}|| = 0$ if and only if $\\mathbf{x} = 0$. The norm is **homogeneous**, that is $||\\lambda \\mathbf{x} || = |\\lambda|\\, || \\mathbf{x} || $. And critically the norm satisfies the **triangular inequality**, that is $||\\mathbf{x} + \\mathbf{y}|| \\leq ||\\mathbf{x}|| + ||\\mathbf{y}||$.\n",
    "\n",
    "\n",
    "````{admonition} Note (norm and Pythagoras theorem)\n",
    "The norm is a quantity that can be interpreted as the length of a vector. This can be illustrated from the 2D case where the norm of a vector is the square root of the hypothenuse of  a right-angle triangle. Thus the norm definition is just an application of  Pythagoras theorem for the 2D case.  Here is how it works:\n",
    "\n",
    "$$\n",
    "\\begin{align}\n",
    "\\mathbf{x} &= \\begin{bmatrix}x_1\\\\x_2\\end{bmatrix}\\\\\n",
    "||\\mathbf{x}|| &= \\sqrt{x^2_1 + x^2_2}\n",
    "\\end{align}\n",
    "$$\n",
    "````"
   ]
  },
  {
   "cell_type": "code",
   "execution_count": 1,
   "id": "3edf5165",
   "metadata": {
    "tags": [
     "remove-input"
    ]
   },
   "outputs": [
    {
     "data": {
      "image/png": "[encoded data removed]",
      "text/plain": [
       "<Figure size 640x480 with 1 Axes>"
      ]
     },
     "metadata": {},
     "output_type": "display_data"
    }
   ],
   "source": [
    "from myst_nb import glue\n",
    "import numpy as np\n",
    "import matplotlib.pyplot as plt\n",
    "f,ax = plt.subplots()\n",
    "ax.set_xlim([-0.5,3.1])\n",
    "ax.set_ylim([-0.5,2.1])\n",
    "ax.set_axis_off()\n",
    "V = [3,2]\n",
    "ax.quiver(0, 0, V[0], V[1], angles='xy', scale_units='xy', scale=1, color='r')\n",
    "ax.quiver(3, 0, 0, V[1], angles='xy', scale_units='xy', scale=1, color='b', width=0.001)\n",
    "ax.quiver(0, 0, V[0], 0, angles='xy', scale_units='xy', scale=1, color='b',width=0.001)\n",
    "ax.annotate(\"$x_2$\",(3,1),horizontalalignment='left')\n",
    "ax.annotate(\"$x_1$\",(1.5,0),verticalalignment='top')\n",
    "\n",
    "glue(\"geom_vector\", f, display=False)"
   ]
  },
  {
   "cell_type": "markdown",
   "id": "51c02f87",
   "metadata": {},
   "source": [
    "````{admonition} Note (triangular inequality)\n",
    "The triangular inequality is a formalization of the statement : \"the shortest past between two points is the straight line\"\n",
    "\n",
    "$||\\mathbf{x} + \\mathbf{y}|| \\leq ||\\mathbf{x}|| + ||\\mathbf{y}||$.\n",
    "\n",
    "The inequality becomes an equality when $\\mathbf{x}$ and $\\mathbf{y}$ are colinear. Here is an illustration for the 2D case\n",
    "````"
   ]
  },
  {
   "cell_type": "code",
   "execution_count": 2,
   "id": "9c2d31ab",
   "metadata": {
    "tags": [
     "remove-input"
    ]
   },
   "outputs": [
    {
     "data": {
      "image/png": "[encoded data removed]",
      "text/plain": [
       "<Figure size 640x480 with 1 Axes>"
      ]
     },
     "metadata": {},
     "output_type": "display_data"
    }
   ],
   "source": [
    "from myst_nb import glue\n",
    "import numpy as np\n",
    "import matplotlib.pyplot as plt\n",
    "f,ax = plt.subplots()\n",
    "ax.set_xlim([-0.5,3.1])\n",
    "ax.set_ylim([-0.5,2.1])\n",
    "ax.set_axis_off()\n",
    "ax.quiver(0, 0, 2, 1, angles='xy', scale_units='xy', scale=1, color='b',width=0.005)\n",
    "ax.quiver(2, 1, 1, 1, angles='xy', scale_units='xy', scale=1, color='b', width=0.005)\n",
    "ax.quiver(0, 0, 3, 2, angles='xy', scale_units='xy', scale=1, color='r', width=0.005)\n",
    "\n",
    "\n",
    "ax.annotate(\"$\\mathbf{x}$\",(2.5,1.4))\n",
    "ax.annotate(\"$\\mathbf{y}$\",(1.5,0.65))\n",
    "ax.annotate(\"$\\mathbf{x}+\\mathbf{y}$\",(1.5,1.2))\n",
    "\n",
    "glue(\"geom_vector\", f, display=False)"
   ]
  },
  {
   "cell_type": "markdown",
   "id": "aaa07bde",
   "metadata": {},
   "source": [
    "## Euclidean distance\n",
    "\n",
    "Informally the euclidean distance is defined as the distance between the two endpoints of the vectors.\n",
    "The vector linking two vectors $\\mathbf{x}$ and $\\mathbf{y}$ is the vector $\\mathbf{x}-\\mathbf{y}$.\n",
    "Then the **euclidean distance** is the norm of this vector:\n",
    "\n",
    "$$\n",
    "\\text{DIST}(\\mathbf{x},\\mathbf{y}) = || \\mathbf{x}-\\mathbf{y} ||\n",
    "$$\n",
    "\n",
    "````{admonition} Note (parallelogram law of vector substraction)\n",
    "\n",
    "The distance definition is intuitive again in the 2D case. It consists of expressing the\n",
    "parallelogram law of vector substraction. \n",
    "\n",
    "$$\n",
    "\\begin{align}\n",
    "\\mathbf{x} - \\mathbf{y} & =\\begin{bmatrix} x_1\\\\x_2 \\end{bmatrix} - \\begin{bmatrix} y_1\\\\y_2 \\end{bmatrix} \\\\\n",
    "& =\\begin{bmatrix}\n",
    "x_1 - y_1\\\\\n",
    "x_2 - y_2 \n",
    "\\end{bmatrix}\n",
    "\\end{align}\n",
    "$$\n",
    "````"
   ]
  },
  {
   "cell_type": "code",
   "execution_count": 3,
   "id": "ab581329",
   "metadata": {
    "tags": [
     "remove-input"
    ]
   },
   "outputs": [
    {
     "data": {
      "image/png": "[encoded data removed]",
      "text/plain": [
       "<Figure size 640x480 with 1 Axes>"
      ]
     },
     "metadata": {},
     "output_type": "display_data"
    }
   ],
   "source": [
    "from myst_nb import glue\n",
    "import numpy as np\n",
    "import matplotlib.pyplot as plt\n",
    "f,ax = plt.subplots()\n",
    "ax.set_xlim([-0.,3.1])\n",
    "ax.set_ylim([-0.,1.1])\n",
    "ax.set_axis_off()\n",
    "ax.quiver(0, 0, 1, 1, angles='xy', scale_units='xy', scale=1, color='r', width=0.005)\n",
    "ax.quiver(0, 0, 2, 1, angles='xy', scale_units='xy', scale=1, color='r', width=0.005)\n",
    "ax.quiver(2, 1, -1, 0, angles='xy', scale_units='xy', scale=1, color='b', width=0.005)\n",
    "\n",
    "ax.annotate(\"($x_1,x_2$)\",(2,1.01), verticalalignment=\"bottom\")\n",
    "ax.annotate(\"$(y_1,y_2)$\", (1,1.01),verticalalignment=\"bottom\")\n",
    "ax.annotate(\"$\\mathbf{x}-\\mathbf{y}$\", (1.5,1.01),verticalalignment=\"bottom\")\n",
    "\n",
    "glue(\"geom_vector\", f, display=False)"
   ]
  },
  {
   "cell_type": "markdown",
   "id": "e5c44253",
   "metadata": {},
   "source": [
    "## Angles\n",
    "\n",
    "\n",
    "The **angle** $\\theta$ between two vectors $\\mathbf{x}$ and $\\mathbf{y}$ is defined from its cosine, which is the ratio between the dot product of the two vectors and their respective norms: \n",
    "\n",
    "$$\n",
    "\\cos\\theta = \\frac{\\mathbf{x}^\\top \\mathbf{y}}{||\\mathbf{x}|| ||\\mathbf{y}||}\n",
    "$$\n",
    "\n",
    "The remainder of this section aims at justifying this definition.  The main result justifying this definition in generality is the \n",
    "**Cauchy-Schwarz** inequality that upper bounds the absolute value of the dot product:\n",
    "\n",
    "$$\n",
    "| \\mathbf{x}^\\top \\mathbf{y} |   \\leq ||\\mathbf{x}|| \\, ||\\mathbf{y}||\n",
    "$$\n",
    "\n",
    "this inequality proven for any euclidean space, irrespective of its dimension, implies that $ \\frac{\\mathbf{x}^\\top \\mathbf{y}}{||\\mathbf{x}|| ||\\mathbf{y}||}$\n",
    "has values in $[-1,1]$ and can therefore be interpreted as a cosine function that also returns values in this interval.\n",
    "\n",
    "````{admonition} Note (vector similarity)\n",
    "From trigonometry, we know that acute angles have $\\cos\\theta \\in ]0,1]$ while obtuse angles have  $\\cos\\theta \\in [-1,0[$, \n",
    "and from the definition of the cosine we can deduce that when $\\mathbf{x}^\\top \\mathbf{y} > 0$ the two vectors have an acute angle and head in the same direction. When $\\mathbf{x}^\\top \\mathbf{y} < 0$ the two vectors have an obtuse angle and head in opposite directions.\n",
    "The greater the dot product (or the cosine) the most similar the vectors, the lesser the dot product (or the cosine) the most dissimilar are the vectors.\n",
    "Thus when the dot product is positive the angle is acute (an acute angle has cos > 0) and both vectors head in the same direction\n",
    "when dot product is negative, the angle is obtuse and vectors head in opposite directions. When dot product is 0, vectors are orthogonal.\n",
    "\n",
    "````\n",
    "\n",
    "\n",
    "The proof of Cauchy-Schwarz inequality is non intuititive, however we can illustrate how the cosine definition given here makes sense in the 2D case. To do that we establish two preliminary results: the  law of cosines, that generalizes Pythagoras theorem to triangles without right angle, and a square identity.\n",
    "\n",
    "````{prf:definition}\n",
    ":label: trigonometry\n",
    "Let $a,b,c$ be the sides length of triangle whose right angle is between $a$ and $b$\n",
    "and let $\\theta$ be the angle between $a$ and $c$. Then\n",
    "\n",
    "$$\n",
    "\\begin{align}\n",
    "\\sin\\theta &= \\frac{b}{c}\\\\\n",
    "\\cos\\theta &=\\frac{a}{c}\\\\\n",
    "\\tan\\theta &=\\frac{b}{a}\n",
    "\\end{align}\n",
    "$$\n",
    "\n",
    "````"
   ]
  },
  {
   "cell_type": "code",
   "execution_count": 4,
   "id": "704cb24f",
   "metadata": {
    "tags": [
     "remove-input"
    ]
   },
   "outputs": [
    {
     "data": {
      "image/png": "[encoded data removed]",
      "text/plain": [
       "<Figure size 640x480 with 1 Axes>"
      ]
     },
     "metadata": {},
     "output_type": "display_data"
    }
   ],
   "source": [
    "from myst_nb import glue\n",
    "import numpy as np\n",
    "import matplotlib.pyplot as plt\n",
    "import matplotlib.patches as mpatches\n",
    "\n",
    "\n",
    "f,ax = plt.subplots()\n",
    "ax.set_xlim([-0.,3.3])\n",
    "ax.set_ylim([-0.1,2.1])\n",
    "ax.set_axis_off()\n",
    "ax.plot([0,3],[0,0],color='black')\n",
    "ax.plot([3,3],[0,2],color='black')\n",
    "ax.plot([0,3],[0,2],color='black')\n",
    "\n",
    "ax.annotate(\"b\",(3.05,1.),horizontalalignment=\"left\")\n",
    "ax.annotate(\"a\", (1.5,-0.1),verticalalignment=\"bottom\")\n",
    "ax.annotate(\"c\", (1.5,1.1))\n",
    "ax.annotate(r\"$\\theta$\", (0.3,0.05),color=\"red\")\n",
    "pac = mpatches.Arc([0, 0], 0.5, 0.5, angle=0, theta1=0, theta2=33.69,color=\"red\")\n",
    "ax.add_patch(pac)\n",
    "\n",
    "glue(\"geom_vector\", f, display=False)"
   ]
  },
  {
   "cell_type": "markdown",
   "id": "6739d7cd",
   "metadata": {},
   "source": [
    "````{prf:lemma} \n",
    ":label: sqsinusoids\n",
    "We prove that $\\cos^2\\theta + \\sin^2\\theta = 1$ in a right angled triangle.\n",
    "\n",
    "$$\n",
    "\\begin{align}\n",
    "\\cos^2\\theta + \\sin^2\\theta &= \\frac{a^2}{c^2} + \\frac{b^2}{c^2}\\\\\n",
    "&=  \\frac{a^2}{a^2+b^2} + \\frac{b^2}{a^2+b^2}&(\\text{Pythagoras})\\\\\n",
    "&= \\frac {a^2+b^2}{a^2+b^2}\\\\\n",
    "&= 1\n",
    "\\end{align}\n",
    "$$\n",
    "````\n",
    "\n",
    "\n",
    "\n",
    "\n",
    "````{prf:lemma} Law of Cosines\n",
    ":label: lawcosines\n",
    "We prove that $c^2 = a^2 + b^2 - 2ab\\cos\\theta$ when $\\theta$ is an acute angle between sides of length $a$ and $b$.\n",
    "The law of cosines generalizes Pythagoras since the triangle is not required to have a right angle.\n",
    "To establish the proof we first make explicit two right angled triangles in our original triangle (dotted line). \n",
    "Then we compute the blue quantities with the trigonometric definitions given above. Then we can express $c$\n",
    "as a function of $a$ and $b$ and establish the result:\n",
    "\n",
    "$$\n",
    "\\begin{align}\n",
    "c^2 &= a^2\\sin^2\\theta + (b-a\\cos\\theta)^2& (\\text{Pythagoras})\\\\\n",
    "&=  a^2\\sin^2\\theta +b^2-2ab\\cos\\theta+a^2\\cos^2\\theta\\\\\n",
    "&= a^2(\\cos^2\\theta+\\sin^2\\theta)+b^2-2ab\\cos\\theta\\\\\n",
    "&= a^2+b^2-2ab\\cos\\theta \n",
    "\\end{align}\n",
    "$$\n",
    "\n",
    "where the last line is obtained with {prf:ref}`sqsinusoids`. The law of cosines holds also when $\\theta$ is an obtuse angle, this part of the proof is left to the reader.\n",
    "````"
   ]
  },
  {
   "cell_type": "code",
   "execution_count": 5,
   "id": "07cb141f",
   "metadata": {
    "tags": [
     "remove-input"
    ]
   },
   "outputs": [
    {
     "data": {
      "image/png": "[encoded data removed]",
      "text/plain": [
       "<Figure size 640x480 with 1 Axes>"
      ]
     },
     "metadata": {},
     "output_type": "display_data"
    }
   ],
   "source": [
    "from myst_nb import glue\n",
    "import numpy as np\n",
    "import matplotlib.pyplot as plt\n",
    "import matplotlib.patches as mpatches\n",
    "\n",
    "\n",
    "f,ax = plt.subplots()\n",
    "ax.set_xlim([-0.,3])\n",
    "ax.set_ylim([-0.1,2.1])\n",
    "ax.set_axis_off()\n",
    "ax.plot([0,2],[0,2],color='black')\n",
    "ax.plot([2,3],[2,0],color='black')\n",
    "ax.plot([0,3],[0,0],color='black')\n",
    "ax.plot([2,2],[2,0],'--',color='b')\n",
    "\n",
    "ax.annotate(\"a\",(1.1,1.2))\n",
    "ax.annotate(\"b\", (1.5,0),verticalalignment=\"top\")\n",
    "ax.annotate(\"c\", (2.4,1.2))\n",
    "ax.annotate(r\"$\\theta$\", (0.25,0.125),color=\"red\")\n",
    "ax.annotate(r\"$a\\cos\\theta$\", (1.,0.),color=\"blue\", horizontalalignment=\"center\" ,verticalalignment=\"bottom\")\n",
    "ax.annotate(r\"$b-a\\cos\\theta$\", (2.5,0.),color=\"blue\", horizontalalignment=\"center\",verticalalignment=\"bottom\")\n",
    "ax.annotate(r\"$a\\sin\\theta$\", (2.,0.99),color=\"blue\", horizontalalignment=\"right\",rotation=90.)\n",
    "pac = mpatches.Arc([0, 0], 0.5, 0.5, angle=0, theta1=0, theta2=45.,color=\"red\")\n",
    "ax.add_patch(pac)\n",
    "\n",
    "glue(\"geom_vector\", f, display=False)"
   ]
  },
  {
   "cell_type": "markdown",
   "id": "58efdd21",
   "metadata": {},
   "source": [
    "````{prf:lemma}\n",
    ":label: perfsquareneg\n",
    "\n",
    "We establish that $||\\mathbf{x} - \\mathbf{y} ||^2 = ||\\mathbf{x}||^2 + ||\\mathbf{y}||^2 - 2\\mathbf{x}^\\top \\mathbf{y}$\n",
    "\n",
    "$$\n",
    "\\begin{align}\n",
    "||\\mathbf{x} - \\mathbf{y} ||^2 &= (\\mathbf{x} - \\mathbf{y})^\\top (\\mathbf{x} - \\mathbf{y})\\\\\n",
    "&= (\\mathbf{x} - \\mathbf{y})^\\top  \\mathbf{x}  \\quad - \\quad   (\\mathbf{x} - \\mathbf{y})^\\top  \\mathbf{y} & (\\text{Dot product is bilinear})\\\\\n",
    "&=  \\mathbf{x}^\\top \\mathbf{x} - \\mathbf{x}^\\top \\mathbf{y} - \\mathbf{x}^\\top \\mathbf{y} +  \\mathbf{y}^\\top \\mathbf{y}&(\\text{Dot product is bilinear})\\\\\n",
    "&= ||\\mathbf{x} ||^2 - 2\\mathbf{x}^\\top\\mathbf{y} + ||\\mathbf{y}||^2\n",
    "\\end{align}\n",
    "$$\n",
    "````\n",
    "\n",
    "\n",
    "````{prf:proposition}\n",
    "\n",
    "We now establish that $\\cos\\theta = \\frac{\\mathbf{x}^\\top \\mathbf{y}}{||\\mathbf{x}|| \\, ||\\mathbf{y}|| }$ for the 2D case.\n",
    "\n",
    "From the triangle used in {prf:ref}`lawcosines`, we set $a = ||\\mathbf{x}||, b = || \\mathbf{y} || $ and $c = ||\\mathbf{x} - \\mathbf{y} ||$,\n",
    "By rewriting {prf:ref}`lawcosines` with those substitutions we have that :\n",
    "\n",
    "$$\n",
    "\\begin{align}\n",
    " ||\\mathbf{x} - \\mathbf{y} ||^2 &= ||\\mathbf{x}||^2 + ||\\mathbf{y}||^2 - 2 || \\mathbf{x} ||\\, ||\\mathbf{y}|| \\, \\cos\\theta \\\\\n",
    "\\end{align}\n",
    "$$\n",
    "\n",
    "Calling to {prf:ref}`perfsquareneg` we rewrite to:\n",
    "\n",
    "$$\n",
    "\\begin{align}\n",
    " ||\\mathbf{x}||^2 -2\\mathbf{x}^\\top\\mathbf{y} + ||\\mathbf{y} ||^2 &= ||\\mathbf{x}||^2 + ||\\mathbf{y}||^2 - 2 || \\mathbf{x} ||\\, ||\\mathbf{y}|| \\, \\cos\\theta \\\\\n",
    "- 2 || \\mathbf{x} ||\\, ||\\mathbf{y}|| \\, \\cos\\theta &= -2\\mathbf{x}^\\top\\mathbf{y} \\\\\n",
    "\\cos\\theta &= \\frac{\\mathbf{x}^\\top\\mathbf{y} }{  || \\mathbf{x} ||\\, ||\\mathbf{y}||  }\n",
    "\\end{align}\n",
    "$$\n",
    "````\n",
    "\n",
    "We can finally provide a generalized formulation of **Pythagoras theorem** by setting the sides of a right angle triangle to $a = ||\\mathbf{x} ||, b = ||\\mathbf{y} ||, c=||\\mathbf{x}+\\mathbf{y}||$. An expansion from $c$ provides the theorem  \n",
    "\n",
    "$$\n",
    "\\begin{align*}\n",
    "  ||\\mathbf{x}+\\mathbf{y}||^2 &= (\\mathbf{x}+\\mathbf{y})^T (\\mathbf{x}+\\mathbf{y}) \\\\\n",
    "                                        &=  (\\mathbf{x}+\\mathbf{y})^T \\mathbf{x} + (\\mathbf{x}+\\mathbf{y})^T \\mathbf{y} & \\text{ (bilinearity of dot product)}\\\\\n",
    "                                   &= \\mathbf{x}^T\\mathbf{x} + \\mathbf{x}^T \\mathbf{y} + \\mathbf{y}^T \\mathbf{x} + \\mathbf{y}^T\\mathbf{y} &  \\text{(bilinearity of dot product)}\\\\\n",
    "                                     &= || \\mathbf{x} ||^2 +2 \\mathbf{x}^T \\mathbf{y} + || \\mathbf{y} ||^2\n",
    "\\end{align*}\n",
    "$$\n",
    "As a right angle has $\\cos\\theta = 0$, it implies that vectors are **orthogonal** when their dot product $\\mathbf{x}^\\top\\mathbf{y} = 0$. This allows us to establish the theorem:\n",
    "\n",
    "$$\n",
    "||\\mathbf{x}+\\mathbf{y}||^2 = || \\mathbf{x} ||^2 + || \\mathbf{y} ||^2\n",
    "$$"
   ]
  }
 ],
 "metadata": {
  "jupytext": {
   "formats": "md:myst",
   "text_representation": {
    "extension": ".md",
    "format_name": "myst",
    "format_version": 0.13,
    "jupytext_version": "1.11.5"
   }
  },
  "kernelspec": {
   "display_name": "Python 3",
   "language": "python",
   "name": "python3"
  },
  "language_info": {
   "codemirror_mode": {
    "name": "ipython",
    "version": 3
   },
   "file_extension": ".py",
   "mimetype": "text/x-python",
   "name": "python",
   "nbconvert_exporter": "python",
   "pygments_lexer": "ipython3",
   "version": "3.10.0"
  },
  "source_map": [
   13,
   161,
   178,
   189,
   208,
   236,
   254,
   303,
   327,
   368,
   396
  ]
 },
 "nbformat": 4,
 "nbformat_minor": 5
}