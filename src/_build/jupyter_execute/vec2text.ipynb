{
 "cells": [
  {
   "cell_type": "markdown",
   "id": "11aae7c9",
   "metadata": {},
   "source": [
    "# Applications to information retrieval"
   ]
  },
  {
   "cell_type": "markdown",
   "id": "21d819ff",
   "metadata": {},
   "source": [
    "We provide an example of the application of the notions seen on Euclidean spaces to the representation of words by high-dimensional vectors. We give some elementary algorithms that take advantage of these representations to compute shape similarities between words, and implement them using the *numpy* library."
   ]
  },
  {
   "cell_type": "markdown",
   "id": "767bc6cd",
   "metadata": {},
   "source": [
    "## What is information Retrieval\n",
    "\n",
    "Information retrieval is the task of finding material of unstructured nature that satisfies an information need from within a large collection of documents. For instance this may be retrieving textual content from a collection of books or from collections of written documents. We suppose the documents to be stored in digital form on computers.\n",
    "\n",
    "Then given a collection of documents, the Information Retrieval system stores them in such a way that we can issue a query for which the system returns the relevant documents. A well known such system is a web search engine that indexes the web pages and allows users to issue queries for which they get the relevant pages. \n",
    "\n",
    "### Boolean-based information retrieval\n",
    "\n",
    "In a boolean model we can exress queries by combining a set of *terms* with connectives *and*, *or* , *not*. A document is returned if the boolean query is true. For instance could ask : *Which plays of Shakespeare\n",
    "contain the terms 'Brutus' and 'Caesar' but not 'Calpurnia'*. In general to get an efficient retrieval process we want to index the text collection. Indexing is an offline operation that creates a table where for each term we have documents where it occurs. Such a table (or matrix) is called a **term document** table and for instance it looks like :\n",
    "\n",
    "|         |Antony and Cleopatra| Julius Caesar | The Tempest | Hamlet | Othello | Macbeth |\n",
    "|  ---    |         ---        |        ---    |       ---   |   ---  |    ---  |   ---   |\n",
    "| Antony  |           1        |       1       |       0     |    0   |    0    |   1     |\n",
    "| Brutus  |           1        |       1       |       0     |    1   |    0    |   0     |\n",
    "| Caesar  |           1        |       1       |       0     |    1   |    1    |   1     |\n",
    "|Calpurnia|           0        |       1       |       0     |    0   |    0    |   0     |\n",
    "|Cleopatra|           1        |       0       |       0     |    0   |    0    |   0     |\n",
    "| mercy   |           1        |       0       |       1     |    1   |    1    |   1     |\n",
    "| worser  |           1        |       0       |       1     |    1   |    1    |   0     |\n",
    "\n",
    "Given this table, the query returns two documents : *Antony and Cleopatra* and *Hamlet*.\n",
    "\n",
    "\n",
    "**Formalisation** Let ${\\cal D} = D_1\\ldots D_n$ be the list of documents and ${\\cal Q} = (t_1 \\lor t_2\\lor \\ldots ) \\land \\ldots \\land (t_k\\lor t_{k+1}\\lor \\ldots)$ be a query in conjunctive normal form where $t_1\\ldots t_m$ are terms. The query's truth value is evaluated as an usual propositional formula. $t_i$ is true if $t_i \\in D_j$ and false otherwise. Furthermore, negation can occur only on terms. The set of returned documents is the subset of ${\\cal D}$ for which the query is true. \n",
    "\n",
    "\n",
    "**Limits of boolean information retrieval** Boolean information retrieval is an all or nothing method. For instance a spelling error may prevent from finding errors. Another typical problem is the absence of ranking. All results that satisfy the query are returned.\n",
    "In case the set of such results is large, there is no built-in method for ranking them. \n"
   ]
  },
  {
   "cell_type": "markdown",
   "id": "5475a46a",
   "metadata": {},
   "source": [
    "## Vector space based information retrieval\n",
    "\n",
    "The basic vector space model for information retrieval fixes the problem of naive information retrieval by naturally providing a ranking method. The basic idea amounts to represent the query and each document by real vectors rather than boolean vectors. The search method computes a similarity between vectors. The similarity scores can be used as criterion for ranking the results.\n",
    "\n",
    "Let' consider again our Shakespeare works, this time we use words counts rather than booleans to fill in the table:\n",
    "\n",
    "\n",
    "|         |Antony and Cleopatra| Julius Caesar | The Tempest | Hamlet | Othello | Macbeth |\n",
    "|  ---    |         ---        |        ---    |       ---   |   ---  |    ---  |   ---   |\n",
    "| Antony  |           157        |       73       |       0     |    0   |    0    |   1     |\n",
    "| Brutus  |           4        |       157       |       0     |    2   |    0    |   0     |\n",
    "| Caesar  |           232        |       227       |       0     |    2   |   1    |   8     |\n",
    "|Calpurnia|           0        |       10       |       0     |    0   |    0    |   0     |\n",
    "|Cleopatra|           57        |       0       |       0     |    0   |    0    |   0     |\n",
    "| mercy   |           2        |       0       |       3     |    8   |    5    |   5     |\n",
    "| worser  |           2        |       0       |       1     |    1   |    1    |   0     |\n",
    "\n",
    "We can code a query such as \"Find those works where we have Antony and Caesar\" as a vector: \n",
    "\n",
    "|         | Query              |\n",
    "|  ---    |         ---        |     \n",
    "| Antony  |           1        |       \n",
    "| Brutus  |           0        |      \n",
    "| Caesar  |           1        |       \n",
    "|Calpurnia|           0        |      \n",
    "|Cleopatra|           0        |      \n",
    "| mercy   |           0        |      \n",
    "| worser  |           0        |\n",
    "\n",
    "Computing the dot product of the query with each document yields the following similarity scores:\n",
    "\n",
    "|         |Antony and Cleopatra| Julius Caesar | The Tempest | Hamlet | Othello | Macbeth |\n",
    "|  ---    |         ---        |        ---    |       ---   |   ---  |    ---  |   ---   |\n",
    "| scores  |          389       |       300     |       0     |    0   |    1    |   9     |\n",
    "\n",
    "\n",
    "This time the results are scored and we can use the scores to rank them. We will see in the next chapters how to improve this first and naive count based representation by taking into account natural language properties and some further notions of linear algebra.  \n",
    "\n",
    "**Summary** To summarize, the vector space model works on a collection of $n$ documents  $D = (\\mathbf{k}_1,v_1)\\ldots (\\mathbf{k}_n,v_n)$ where $\\mathbf{k}_i$ is the index vector and $v_i$ the corresponding value. The search procedure amounts to score the similarity $s_i$ between a query vector $\\mathbf{q}$ and each key $\\mathbf{k}_i$ and to sort the documents based on their score.\n",
    "The similarity score can be the dot product, $s_i = \\mathbf{q}^\\top\\mathbf{k}_i$, but most of the time the cosine is used as it ranges in $[-1,1]$:\n",
    "\n",
    "$$\n",
    "s_i = \\frac{\\mathbf{q}^\\top\\mathbf{k}_i}{||\\mathbf{q}||\\, ||\\mathbf{k}_i||}\n",
    "$$\n",
    "\n",
    "\n",
    "\n",
    "## K-nearest neighbors and classification\n",
    "\n",
    "**Generalization** The method described for information retrieval can be generalized to a wide range of problems in Natural Language Processing as soon as we can design an encoding of linguistic symbols $S$ to vectors, that is a function $\\Phi: S \\mapsto\\mathbb{R}^n$ analog to the encoding from documents to vectors exemplified so far. \n",
    "\n",
    "For instance we can choose $\\Phi$ to encode a set of words on 26 dimensional vectors containing the character counts of each of the 26 letters of the alphabet found in the word. Using generalized euclidean geometry we can then measure angles and distances between those word vectors and issue queries. This is just a variant of what we illustrated earlier, now we assume a database $D = (\\mathbf{k}_1,v_1)\\ldots (\\mathbf{k}_n,v_n)$ whose keys $\\mathbf{k}_i = \\Phi(v_i)$ are the vectors encoded by the function $\\Phi$, and whose values $v_i$ are word strings\n",
    "\n",
    "\n",
    "### K-nearest neighbor algorithm (KNN)\n",
    "\n",
    "The KNN algorithm is a variant of the preceding scheme dedicated to classification. Given a query $q\\in S$\n",
    "the algorithm aims to classify $q$. A **classifier** is a function $f:S\\mapsto C$ mapping the input set $S$ to some output discrete set $C$.\n",
    "\n",
    "For instance we might wish to learn a function from a set of surnames to their nationalities\n",
    "\n",
    "|  Surname  | Nationality | \n",
    "|  ---    |         ---   |    \n",
    "| Campos |     Portuguese |\n",
    "| Barros | Portuguese |\n",
    "| Silva  | Portuguese |\n",
    "| Aoki   | Japanese |\n",
    "| Daishi | Japanese |\n",
    "| Nagano | Japanese |\n",
    "\n",
    "\n",
    "A trivial solution to the issue is to enumerate the function by creating some sort of dictionary.\n",
    "But in many cases we cannot practically enumerate the full set $S$, here the set of surnames. There may be new surnames appearing with time for instance.\n",
    "\n",
    "A classifier is a function that is able to map elements from $S$ to a class in $C$ without memorizing how to map each element of $S$. Rather the function is *learned* from a subset of $S$ paired with actual classes from $C$, the training set, and it is expected that the function *generalizes* its predictions to those elements of $S$ that have not been seen in the training set. For instance a training set might be the Surname,nationality set of examples given above and we expect the classification function to be able to predict the class for unseen input, e.g. *hiroshige* to be Japanese.\n",
    "\n",
    "\n",
    "The KNN is an instance of such a classifier. We assume a dataset $D = (s_1,c_1)\\ldots (s_n,c_n)$ whose elements are couples from surnames to nationality classes. We assume a vectorization function $\\Phi:S\\mapsto \\mathbb{R}^n$ mapping symbols to vectors. Given a query $q\\in S$, we compute for each $s_i$:\n",
    "\n",
    "$$\n",
    "    \\begin{align}\n",
    "    \\text{sim}(q,s_i) &= \\frac{\\mathbf{q}^\\top \\mathbf{k}_i}{||\\mathbf{q}|| ||\\mathbf{k}_i||}\\\\\n",
    "     \\mathbf{q}   &= \\Phi(q)\\\\\n",
    "     \\mathbf{k}_i &= \\Phi(s_i)\n",
    "    \\end{align}\n",
    "$$\n",
    "\n",
    "then for some constant $K$ the algorithm creates the set $N = \\text{K-argmax}_{(s_i,c_i)\\in D}  \\text{sim}\\quad(\\mathbf{q},\\mathbf{k}_i)$ of K nearest neighbours and assigns to the query $q$ the class which is the most frequent among the $c_i$ in $N$.\n",
    "\n",
    "\n",
    "\n",
    "\n",
    "\n",
    "### An example in Python\n",
    "\n",
    "We consider as dataset of people's names given as couples made of strings and nationalities in Python. \n",
    "\n",
    "We first provide an example on how to encode strings to character vectors and to create a database whose keys are vectors and values are nationality classes. "
   ]
  },
  {
   "cell_type": "code",
   "execution_count": 1,
   "id": "783031bb",
   "metadata": {
    "scrolled": true
   },
   "outputs": [
    {
     "name": "stdout",
     "output_type": "stream",
     "text": [
      "key [1. 0. 1. 0. 0. 0. 0. 0. 0. 0. 0. 0. 1. 0. 1. 1. 0. 0. 1. 0. 0. 0. 0. 0. 0. 0.]\n",
      "value P \n",
      "\n",
      "key [1. 1. 0. 0. 0. 0. 0. 0. 0. 0. 0. 0. 0. 0. 1. 0. 0. 2. 1. 0. 0. 0. 0. 0. 0. 0.]\n",
      "value P \n",
      "\n",
      "key [2. 0. 1. 1. 0. 0. 0. 1. 0. 0. 0. 0. 1. 0. 1. 0. 0. 0. 0. 0. 0. 0. 0. 0. 0. 0.]\n",
      "value P \n",
      "\n",
      "key [1. 0. 0. 0. 0. 0. 0. 0. 1. 0. 0. 1. 0. 0. 0. 0. 0. 0. 1. 0. 0. 1. 0. 0. 0. 0.]\n",
      "value P \n",
      "\n",
      "key [0. 0. 0. 0. 2. 0. 0. 1. 1. 0. 0. 0. 0. 1. 0. 0. 1. 1. 1. 0. 1. 0. 0. 0. 0. 0.]\n",
      "value P \n",
      "\n",
      "key [1. 0. 0. 0. 0. 0. 0. 0. 1. 0. 1. 0. 0. 0. 1. 0. 0. 0. 0. 0. 0. 0. 0. 0. 0. 0.]\n",
      "value J \n",
      "\n"
     ]
    }
   ],
   "source": [
    "from collections import Counter\n",
    "import numpy as np\n",
    "np.set_printoptions(linewidth=120)\n",
    "\n",
    "\n",
    "\n",
    "alpha  = \"abcdefghijklmnopqrstuvwxyz\"\n",
    "\n",
    "def word2vec(word):\n",
    "    \n",
    "    counts   = Counter(word)\n",
    "    vec      = np.zeros(len(alpha))        \n",
    "    for idx, char in enumerate(alpha):\n",
    "        if char in counts:\n",
    "            vec[idx] = counts[char]\n",
    "    \n",
    "    return vec\n",
    "\n",
    "\n",
    "dataset = [('campos','P'),\n",
    "           ('barros','P'),\n",
    "           ('machado','P'),\n",
    "           ('silva','P'),\n",
    "           ('henriques','P'),\n",
    "           ('aoki','J'),\n",
    "           ('asano','J'),\n",
    "           ('daishi','J'),\n",
    "           ('hayakawa','J'),\n",
    "           ('nagano','J')]\n",
    "\n",
    "knn_dataset = [ (word2vec(word),cls)  for (word,cls) in dataset]\n",
    "\n",
    "#prints the 6 first lines\n",
    "for key, value in knn_dataset[:6]:\n",
    "    print('key',key)\n",
    "    print('value',value,'\\n')\n",
    "    \n",
    "  \n",
    "\n"
   ]
  },
  {
   "cell_type": "markdown",
   "id": "705aa718",
   "metadata": {},
   "source": [
    "Given a properly encoded dataset we design the KNN algorithm and we test it on a new surname token:"
   ]
  },
  {
   "cell_type": "code",
   "execution_count": 2,
   "id": "98ef9bb6",
   "metadata": {},
   "outputs": [
    {
     "name": "stdout",
     "output_type": "stream",
     "text": [
      "prediction : J, majority vote : 2/3\n"
     ]
    }
   ],
   "source": [
    "from numpy.linalg import norm\n",
    "from collections import Counter\n",
    "\n",
    "def similarity(x,y):\n",
    "    \n",
    "    return np.dot(x,y) / ( norm(x) * norm(y) )\n",
    "    \n",
    "    \n",
    "def knn_classify(query,data,K=3):\n",
    "    vquery = word2vec(query)\n",
    "    scores = [ (similarity(vquery,key),cls) for key,cls in data]  \n",
    "    scores.sort(reverse=True)\n",
    "    knn    = scores[:K]\n",
    "    counts = Counter(cls for _ ,cls in knn)    \n",
    "    cls,c  = counts.most_common(1)[0]\n",
    "    return cls,c\n",
    "    \n",
    "K = 3\n",
    "cls,c = knn_classify('hiroshige',knn_dataset,K)\n",
    "print(f'prediction : {cls}, majority vote : {c}/{K}')"
   ]
  },
  {
   "cell_type": "markdown",
   "id": "5669e174-18e3-485a-b1ee-d342fe6f1851",
   "metadata": {
    "editable": true,
    "slideshow": {
     "slide_type": ""
    },
    "tags": []
   },
   "source": [
    "## The curse of dimensionality\n",
    "\n",
    "The **curse of dimensionality** states that when the dimension of the vector space gets very large, \n",
    "the space gets sparse and the distance concentrates. We illustrate each of these aspects with examples.\n",
    "\n",
    "### Increased sparsity as dimension grows\n",
    "Let us consider 10 random vectors of dimension 1 (or 10 random scalars). \n",
    "One can observe that in this vector space of dimension 1 data points roughly cover the space.\n",
    "Now consider 10 random vectors of dimension 2. One can observe that these vectors are more sparse.\n",
    "To get an occupation of the space as dense as in the 1D case we should sample $10^2=100$ random vectors.\n",
    "For 3D in dimensional space we should sample $10^3=1000$ random vectors and in general a $d-$dimensional space\n",
    "requires a $d-$exponential amount of data points.\n"
   ]
  },
  {
   "cell_type": "code",
   "execution_count": 3,
   "id": "fbf68df9-9833-4648-bb82-0d8fedf06eb7",
   "metadata": {
    "editable": true,
    "scrolled": true,
    "slideshow": {
     "slide_type": ""
    },
    "tags": [
     "remove-input"
    ]
   },
   "outputs": [
    {
     "ename": "ModuleNotFoundError",
     "evalue": "No module named 'matplotlib'",
     "output_type": "error",
     "traceback": [
      "\u001b[0;31m---------------------------------------------------------------------------\u001b[0m",
      "\u001b[0;31mModuleNotFoundError\u001b[0m                       Traceback (most recent call last)",
      "Cell \u001b[0;32mIn[3], line 1\u001b[0m\n\u001b[0;32m----> 1\u001b[0m \u001b[43mget_ipython\u001b[49m\u001b[43m(\u001b[49m\u001b[43m)\u001b[49m\u001b[38;5;241;43m.\u001b[39;49m\u001b[43mrun_line_magic\u001b[49m\u001b[43m(\u001b[49m\u001b[38;5;124;43m'\u001b[39;49m\u001b[38;5;124;43mmatplotlib\u001b[39;49m\u001b[38;5;124;43m'\u001b[39;49m\u001b[43m,\u001b[49m\u001b[43m \u001b[49m\u001b[38;5;124;43m'\u001b[39;49m\u001b[38;5;124;43minline\u001b[39;49m\u001b[38;5;124;43m'\u001b[39;49m\u001b[43m)\u001b[49m\n\u001b[1;32m      2\u001b[0m \u001b[38;5;28;01mimport\u001b[39;00m \u001b[38;5;21;01mmatplotlib\u001b[39;00m\n\u001b[1;32m      3\u001b[0m matplotlib\u001b[38;5;241m.\u001b[39mrcParams[\u001b[38;5;124m'\u001b[39m\u001b[38;5;124mfigure.figsize\u001b[39m\u001b[38;5;124m'\u001b[39m] \u001b[38;5;241m=\u001b[39m [\u001b[38;5;241m10\u001b[39m, \u001b[38;5;241m5\u001b[39m]\n",
      "File \u001b[0;32m/Library/Frameworks/Python.framework/Versions/3.12/lib/python3.12/site-packages/IPython/core/interactiveshell.py:2417\u001b[0m, in \u001b[0;36mInteractiveShell.run_line_magic\u001b[0;34m(self, magic_name, line, _stack_depth)\u001b[0m\n\u001b[1;32m   2415\u001b[0m     kwargs[\u001b[38;5;124m'\u001b[39m\u001b[38;5;124mlocal_ns\u001b[39m\u001b[38;5;124m'\u001b[39m] \u001b[38;5;241m=\u001b[39m \u001b[38;5;28mself\u001b[39m\u001b[38;5;241m.\u001b[39mget_local_scope(stack_depth)\n\u001b[1;32m   2416\u001b[0m \u001b[38;5;28;01mwith\u001b[39;00m \u001b[38;5;28mself\u001b[39m\u001b[38;5;241m.\u001b[39mbuiltin_trap:\n\u001b[0;32m-> 2417\u001b[0m     result \u001b[38;5;241m=\u001b[39m \u001b[43mfn\u001b[49m\u001b[43m(\u001b[49m\u001b[38;5;241;43m*\u001b[39;49m\u001b[43margs\u001b[49m\u001b[43m,\u001b[49m\u001b[43m \u001b[49m\u001b[38;5;241;43m*\u001b[39;49m\u001b[38;5;241;43m*\u001b[39;49m\u001b[43mkwargs\u001b[49m\u001b[43m)\u001b[49m\n\u001b[1;32m   2419\u001b[0m \u001b[38;5;66;03m# The code below prevents the output from being displayed\u001b[39;00m\n\u001b[1;32m   2420\u001b[0m \u001b[38;5;66;03m# when using magics with decodator @output_can_be_silenced\u001b[39;00m\n\u001b[1;32m   2421\u001b[0m \u001b[38;5;66;03m# when the last Python token in the expression is a ';'.\u001b[39;00m\n\u001b[1;32m   2422\u001b[0m \u001b[38;5;28;01mif\u001b[39;00m \u001b[38;5;28mgetattr\u001b[39m(fn, magic\u001b[38;5;241m.\u001b[39mMAGIC_OUTPUT_CAN_BE_SILENCED, \u001b[38;5;28;01mFalse\u001b[39;00m):\n",
      "File \u001b[0;32m/Library/Frameworks/Python.framework/Versions/3.12/lib/python3.12/site-packages/IPython/core/magics/pylab.py:99\u001b[0m, in \u001b[0;36mPylabMagics.matplotlib\u001b[0;34m(self, line)\u001b[0m\n\u001b[1;32m     97\u001b[0m     \u001b[38;5;28mprint\u001b[39m(\u001b[38;5;124m\"\u001b[39m\u001b[38;5;124mAvailable matplotlib backends: \u001b[39m\u001b[38;5;132;01m%s\u001b[39;00m\u001b[38;5;124m\"\u001b[39m \u001b[38;5;241m%\u001b[39m backends_list)\n\u001b[1;32m     98\u001b[0m \u001b[38;5;28;01melse\u001b[39;00m:\n\u001b[0;32m---> 99\u001b[0m     gui, backend \u001b[38;5;241m=\u001b[39m \u001b[38;5;28;43mself\u001b[39;49m\u001b[38;5;241;43m.\u001b[39;49m\u001b[43mshell\u001b[49m\u001b[38;5;241;43m.\u001b[39;49m\u001b[43menable_matplotlib\u001b[49m\u001b[43m(\u001b[49m\u001b[43margs\u001b[49m\u001b[38;5;241;43m.\u001b[39;49m\u001b[43mgui\u001b[49m\u001b[38;5;241;43m.\u001b[39;49m\u001b[43mlower\u001b[49m\u001b[43m(\u001b[49m\u001b[43m)\u001b[49m\u001b[43m \u001b[49m\u001b[38;5;28;43;01mif\u001b[39;49;00m\u001b[43m \u001b[49m\u001b[38;5;28;43misinstance\u001b[39;49m\u001b[43m(\u001b[49m\u001b[43margs\u001b[49m\u001b[38;5;241;43m.\u001b[39;49m\u001b[43mgui\u001b[49m\u001b[43m,\u001b[49m\u001b[43m \u001b[49m\u001b[38;5;28;43mstr\u001b[39;49m\u001b[43m)\u001b[49m\u001b[43m \u001b[49m\u001b[38;5;28;43;01melse\u001b[39;49;00m\u001b[43m \u001b[49m\u001b[43margs\u001b[49m\u001b[38;5;241;43m.\u001b[39;49m\u001b[43mgui\u001b[49m\u001b[43m)\u001b[49m\n\u001b[1;32m    100\u001b[0m     \u001b[38;5;28mself\u001b[39m\u001b[38;5;241m.\u001b[39m_show_matplotlib_backend(args\u001b[38;5;241m.\u001b[39mgui, backend)\n",
      "File \u001b[0;32m/Library/Frameworks/Python.framework/Versions/3.12/lib/python3.12/site-packages/IPython/core/interactiveshell.py:3588\u001b[0m, in \u001b[0;36mInteractiveShell.enable_matplotlib\u001b[0;34m(self, gui)\u001b[0m\n\u001b[1;32m   3567\u001b[0m \u001b[38;5;28;01mdef\u001b[39;00m \u001b[38;5;21menable_matplotlib\u001b[39m(\u001b[38;5;28mself\u001b[39m, gui\u001b[38;5;241m=\u001b[39m\u001b[38;5;28;01mNone\u001b[39;00m):\n\u001b[1;32m   3568\u001b[0m \u001b[38;5;250m    \u001b[39m\u001b[38;5;124;03m\"\"\"Enable interactive matplotlib and inline figure support.\u001b[39;00m\n\u001b[1;32m   3569\u001b[0m \n\u001b[1;32m   3570\u001b[0m \u001b[38;5;124;03m    This takes the following steps:\u001b[39;00m\n\u001b[0;32m   (...)\u001b[0m\n\u001b[1;32m   3586\u001b[0m \u001b[38;5;124;03m        display figures inline.\u001b[39;00m\n\u001b[1;32m   3587\u001b[0m \u001b[38;5;124;03m    \"\"\"\u001b[39;00m\n\u001b[0;32m-> 3588\u001b[0m     \u001b[38;5;28;01mfrom\u001b[39;00m \u001b[38;5;21;01mmatplotlib_inline\u001b[39;00m\u001b[38;5;21;01m.\u001b[39;00m\u001b[38;5;21;01mbackend_inline\u001b[39;00m \u001b[38;5;28;01mimport\u001b[39;00m configure_inline_support\n\u001b[1;32m   3590\u001b[0m     \u001b[38;5;28;01mfrom\u001b[39;00m \u001b[38;5;21;01mIPython\u001b[39;00m\u001b[38;5;21;01m.\u001b[39;00m\u001b[38;5;21;01mcore\u001b[39;00m \u001b[38;5;28;01mimport\u001b[39;00m pylabtools \u001b[38;5;28;01mas\u001b[39;00m pt\n\u001b[1;32m   3591\u001b[0m     gui, backend \u001b[38;5;241m=\u001b[39m pt\u001b[38;5;241m.\u001b[39mfind_gui_and_backend(gui, \u001b[38;5;28mself\u001b[39m\u001b[38;5;241m.\u001b[39mpylab_gui_select)\n",
      "File \u001b[0;32m/Library/Frameworks/Python.framework/Versions/3.12/lib/python3.12/site-packages/matplotlib_inline/__init__.py:1\u001b[0m\n\u001b[0;32m----> 1\u001b[0m \u001b[38;5;28;01mfrom\u001b[39;00m \u001b[38;5;21;01m.\u001b[39;00m \u001b[38;5;28;01mimport\u001b[39;00m backend_inline, config  \u001b[38;5;66;03m# noqa\u001b[39;00m\n\u001b[1;32m      2\u001b[0m __version__ \u001b[38;5;241m=\u001b[39m \u001b[38;5;124m\"\u001b[39m\u001b[38;5;124m0.1.7\u001b[39m\u001b[38;5;124m\"\u001b[39m  \u001b[38;5;66;03m# noqa\u001b[39;00m\n",
      "File \u001b[0;32m/Library/Frameworks/Python.framework/Versions/3.12/lib/python3.12/site-packages/matplotlib_inline/backend_inline.py:6\u001b[0m\n\u001b[1;32m      1\u001b[0m \u001b[38;5;124;03m\"\"\"A matplotlib backend for publishing figures via display_data\"\"\"\u001b[39;00m\n\u001b[1;32m      3\u001b[0m \u001b[38;5;66;03m# Copyright (c) IPython Development Team.\u001b[39;00m\n\u001b[1;32m      4\u001b[0m \u001b[38;5;66;03m# Distributed under the terms of the BSD 3-Clause License.\u001b[39;00m\n\u001b[0;32m----> 6\u001b[0m \u001b[38;5;28;01mimport\u001b[39;00m \u001b[38;5;21;01mmatplotlib\u001b[39;00m\n\u001b[1;32m      7\u001b[0m \u001b[38;5;28;01mfrom\u001b[39;00m \u001b[38;5;21;01mmatplotlib\u001b[39;00m \u001b[38;5;28;01mimport\u001b[39;00m colors\n\u001b[1;32m      8\u001b[0m \u001b[38;5;28;01mfrom\u001b[39;00m \u001b[38;5;21;01mmatplotlib\u001b[39;00m\u001b[38;5;21;01m.\u001b[39;00m\u001b[38;5;21;01mbackends\u001b[39;00m \u001b[38;5;28;01mimport\u001b[39;00m backend_agg\n",
      "\u001b[0;31mModuleNotFoundError\u001b[0m: No module named 'matplotlib'"
     ]
    }
   ],
   "source": [
    "%matplotlib inline\n",
    "import matplotlib\n",
    "matplotlib.rcParams['figure.figsize'] = [10, 5]\n",
    "import matplotlib.pyplot as plt\n",
    "import numpy as np\n",
    "from numpy import random\n",
    "from myst_nb import glue\n",
    "\n",
    "fig = plt.figure()\n",
    "d   = 10\n",
    "\n",
    "ax = fig.add_subplot(1, 3, 1)\n",
    "x = np.zeros((2,10))\n",
    "x[1] = random.randn(10)*10\n",
    "ax.set_xlim(-20,20)\n",
    "ax.set_ylim(-0.1,0.1)\n",
    "ax.spines['top'].set_visible(False)\n",
    "ax.spines['right'].set_visible(False)\n",
    "ax.spines['left'].set_visible(False)\n",
    "ax.get_yaxis().set_ticks([])\n",
    "ax.scatter(x[1],x[0])\n",
    "ax.set_title(\"1D space\")\n",
    "\n",
    "ax = fig.add_subplot(1, 3, 2)\n",
    "x = random.randn(2,10)*10\n",
    "ax.set_xlim(-20,20)\n",
    "ax.spines['top'].set_visible(False)\n",
    "ax.spines['right'].set_visible(False)\n",
    "ax.scatter(x[1],x[0])\n",
    "ax.set_title(\"2D space\")\n",
    "\n",
    "\n",
    "ax = fig.add_subplot(1, 3, 3, projection='3d')\n",
    "x = random.randn(10)*10\n",
    "y = random.randn(10)*10\n",
    "z = random.randn(10)*10\n",
    "ax.set_xlim3d(-20,20)\n",
    "ax.set_ylim3d(-20,20)\n",
    "ax.set_zlim3d(-20,20)\n",
    "ax.scatter(x,y,z)\n",
    "ax.set_title(\"3D space\")\n",
    "glue(\"cdfig\", fig, display=False)\n",
    "\n"
   ]
  },
  {
   "cell_type": "markdown",
   "id": "13696a1b-efa5-4551-a201-c43e524a90e8",
   "metadata": {
    "editable": true,
    "slideshow": {
     "slide_type": ""
    },
    "tags": []
   },
   "source": [
    "### Concentration of the distance\n",
    "\n",
    "As the dimension of the space grows the distance between the points tends to concentrate on the mean distance\n",
    "with lower and lower variance. Here is a simulation for 100 points drawn randomly on spaces of increasing dimensions. \n",
    "For each dimension we provide an histogram of the distance distribution between the points\n"
   ]
  },
  {
   "cell_type": "code",
   "execution_count": 2,
   "id": "8b9da66c-0f98-4184-b0f0-dea202ba543b",
   "metadata": {
    "editable": true,
    "scrolled": true,
    "slideshow": {
     "slide_type": ""
    },
    "tags": [
     "remove-input"
    ]
   },
   "outputs": [
    {
     "data": {
      "image/png": "[encoded data removed]",
      "text/plain": [
       "<Figure size 1000x500 with 6 Axes>"
      ]
     },
     "metadata": {},
     "output_type": "display_data"
    }
   ],
   "source": [
    "%matplotlib inline\n",
    "import matplotlib\n",
    "matplotlib.rcParams['figure.figsize'] = [10, 5]\n",
    "import matplotlib.pyplot as plt\n",
    "import numpy as np\n",
    "from numpy import random\n",
    "from numpy.linalg import norm\n",
    "from myst_nb import glue\n",
    "\n",
    "def distances(X):\n",
    "    return np.array([norm(x-y) for x in X for y in X if (x!=y).all()])\n",
    "    \n",
    "fig, axes = plt.subplots(2,3)\n",
    "for idx,d in enumerate([2,3,10,100,1000,10000]):\n",
    "    ax = axes[idx//3][idx%3]\n",
    "    X   = random.randn(100,d)\n",
    "    D   = distances(X)\n",
    "    ax.hist(D,density=True,alpha=0.5,bins=40)\n",
    "    ax.set_title(f\"{d}-dimensional space\")\n",
    "    ax.set_xlim(0,max(D)+max(D)//10)\n",
    "    if idx >= 3:\n",
    "        ax.set_xlabel(\"Euclidean distance\")\n",
    "    ax.set_ylabel(\"Density\")\n",
    "fig.tight_layout(pad=1.0)\n",
    "glue(\"cdfig\", fig, display=False)"
   ]
  },
  {
   "cell_type": "markdown",
   "id": "82daf91b-0cf2-4f44-a56d-19a127928b8f",
   "metadata": {
    "editable": true,
    "slideshow": {
     "slide_type": ""
    },
    "tags": []
   },
   "source": [
    "This effect can be seen as a consequence of the law of large numbers and the central limit therem on vectors of large sizes. The concentration of the distance may have an effect on Nearest neighbours algorithms. \n",
    "When vectors have high dimensionality the distances are almost all the same and may become meaningless. Methods for countering this effect involve dimensionality reduction."
   ]
  },
  {
   "cell_type": "markdown",
   "id": "d781c114",
   "metadata": {
    "editable": true,
    "slideshow": {
     "slide_type": ""
    },
    "tags": [
     "remove-input"
    ]
   },
   "source": [
    "## Exercises\n",
    "\n",
    "1. Conjecture why we prefer to use the angular measure (cosine similarity) or the euclidean distance when comparing query and keys ?\n",
    "**hint**: compare the case where you take the measure between two texts $x$ and $y$ with a case where the measure is taken between $x$ and a version of $y$ where the content is replicated multiple times.\n",
    "\n",
    "2. Test the `knn_classify` function with other queries and identify its potential problems. For instance, what happens in case of ties ? how to choose the value for parameter K ?\n",
    "\n",
    "3. Provide a Python implementation of a (toy) vector-based twitter search engine using the tweets provided below. \n",
    "This requires to design a tweet to vector function and a query system.\n"
   ]
  },
  {
   "cell_type": "code",
   "execution_count": 3,
   "id": "a26dc987",
   "metadata": {
    "editable": true,
    "slideshow": {
     "slide_type": ""
    },
    "tags": []
   },
   "outputs": [],
   "source": [
    "tweets = [\n",
    "    \"@mattcutts have google profiles stopped showing up in searches? cant see them anymore\",\n",
    "    \"@ArunBasilLal I love Google Translator too ! :D Good day mate !\",\n",
    "    \"reading on my new Kindle2!\",\n",
    "    \"My Kindle2 came and I LOVE it! :)\",\n",
    "    'LOVING my new Kindle2.  Named her Kendra in case u were wondering. The \"cookbook\" is THE tool cuz it tells u all the tricks!  Best gift EVR!',\n",
    "    \"The real AIG scandal / http://bit.ly/b82Px\",\n",
    "    \"Any twitter to aprs apps yet?\",\n",
    "    \"45 Pros You Should Be Following on Twitter - http://is.gd/sMbZ\",\n",
    "    \"Obama is quite a good comedian! check out his dinner speech on CNN :) very funny jokes.\",\n",
    "    'Barack Obama shows his funny side \" &gt;&gt; http://tr.im/l0gY !! Great speech..',\n",
    "    \"I like this guy : ' Barack Obama shows his funny side \\\" &gt;&gt; http://tr.im/l0gY !!\",\n",
    "    \"Obama's speech was pretty awesome last night! http://bit.ly/IMXUM\"\n",
    "]"
   ]
  }
 ],
 "metadata": {
  "kernelspec": {
   "display_name": "Python 3 (ipykernel)",
   "language": "python",
   "name": "python3"
  },
  "language_info": {
   "codemirror_mode": {
    "name": "ipython",
    "version": 3
   },
   "file_extension": ".py",
   "mimetype": "text/x-python",
   "name": "python",
   "nbconvert_exporter": "python",
   "pygments_lexer": "ipython3",
   "version": "3.12.8"
  }
 },
 "nbformat": 4,
 "nbformat_minor": 5
}