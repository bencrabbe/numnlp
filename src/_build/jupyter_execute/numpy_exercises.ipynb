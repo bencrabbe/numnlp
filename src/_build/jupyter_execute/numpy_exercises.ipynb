{
 "cells": [
  {
   "cell_type": "markdown",
   "id": "2e8788b2",
   "metadata": {},
   "source": [
    "Before you turn this problem in, make sure everything runs as expected. First, **restart the kernel** (in the menubar, select Kernel$\\rightarrow$Restart) and then **run all cells** (in the menubar, select Cell$\\rightarrow$Run All).\n",
    "\n",
    "Make sure you fill in any place that says `YOUR CODE HERE` or \"YOUR ANSWER HERE\", as well as your name and collaborators below:"
   ]
  },
  {
   "cell_type": "code",
   "execution_count": 1,
   "id": "012331e2",
   "metadata": {},
   "outputs": [],
   "source": [
    "NAME = \"\"\n",
    "COLLABORATORS = \"\""
   ]
  },
  {
   "cell_type": "markdown",
   "id": "c4f822d2",
   "metadata": {},
   "source": [
    "---"
   ]
  },
  {
   "cell_type": "markdown",
   "id": "4b230589-fd02-4c12-927a-e8ad80efd467",
   "metadata": {},
   "source": [
    "# Numpy exercises\n",
    "\n",
    "\n",
    "## Arrays basics"
   ]
  },
  {
   "cell_type": "code",
   "execution_count": 2,
   "id": "15a310a7-9c80-479a-a3ab-c4d46f5f49bc",
   "metadata": {
    "editable": true,
    "slideshow": {
     "slide_type": ""
    },
    "tags": []
   },
   "outputs": [],
   "source": [
    "import numpy as np\n",
    "\n",
    "# Array creation (1d)\n",
    "\n",
    "## by extension\n",
    "x = np.array([1,7,512,-3])\n",
    "\n",
    "## constant and random initialization\n",
    "x = np.zeros(10)\n",
    "x = np.ones(7)\n",
    "x = np.full(12,-2)\n",
    "x = np.random.random(5)\n",
    "\n",
    "## ranges \n",
    "x = np.arange(-2,2,0.1)\n",
    "x = np.linspace(0,1,50)\n",
    "\n",
    "## Array indexing\n",
    "i3 = x[3]\n",
    "s  = x[20:30]\n",
    "s  = x[:10]\n",
    "s  = x[10:]\n",
    "\n",
    "## Array structural manipulations\n",
    "y  = np.concatenate([x,x])\n",
    "z  = np.split(x,[10,20,30])\n",
    "\n",
    "# Array and scalar vectorized operations\n",
    "\n",
    "x = np.array([-1,1,2,3,-1])\n",
    "\n",
    "## vectorized scalar multiplication/division\n",
    "y = 2 * x         \n",
    "y = x/2 \n",
    "\n",
    "## vectorized addition / substraction\n",
    "z =  x + y\n",
    "z =  x - y\n",
    "\n",
    "## aggregation\n",
    "\n",
    "S = x.sum()\n",
    "S = np.sum(x)\n",
    "P = x.prod()\n",
    "P = np.prod(x)\n",
    "\n",
    "## boolean arrays\n",
    "p = np.array([1,0,1],dtype=np.bool_)\n",
    "q = np.array([0,1,1],dtype=np.bool_)\n",
    "\n",
    "## boolean operations\n",
    "o = p | q  # or\n",
    "a = p & q  # and\n",
    "n = ~p     # not\n",
    "\n",
    "## boolean tests on arrays\n",
    "x = np.array([-1,1,2,3,-1])\n",
    "y = np.array([0,0,1,0,0])\n",
    "\n",
    "e   = (x == y)\n",
    "ex  = np.any(y > 0)   \n",
    "all = np.all(y >= 0)\n",
    "\n"
   ]
  },
  {
   "cell_type": "markdown",
   "id": "3fdc244b-b5df-417b-a045-cb1616bc3c87",
   "metadata": {
    "editable": true,
    "slideshow": {
     "slide_type": ""
    },
    "tags": []
   },
   "source": [
    "## Vectorized operations \n",
    "Explain in words what is a vectorized operation in numpy. Explain why such operations are interesting over traditional loops.\n",
    "You may look at internet to find elements of explanations (but not copy from chat GPT or related software)."
   ]
  },
  {
   "cell_type": "markdown",
   "id": "6f1768a0-f12d-40e1-9a30-a05f92a52a4b",
   "metadata": {
    "deletable": false,
    "editable": true,
    "nbgrader": {
     "cell_type": "markdown",
     "checksum": "63f7ca96f68d1d043d4b7966eb766f27",
     "grade": true,
     "grade_id": "cell-3fdb807736e89049",
     "locked": false,
     "points": 5,
     "schema_version": 3,
     "solution": true,
     "task": false
    },
    "slideshow": {
     "slide_type": ""
    },
    "tags": []
   },
   "source": [
    "YOUR ANSWER HERE"
   ]
  },
  {
   "cell_type": "markdown",
   "id": "1ceff42e-3c24-4595-b977-66fd0d5464b6",
   "metadata": {
    "editable": true,
    "slideshow": {
     "slide_type": ""
    },
    "tags": []
   },
   "source": [
    "## Arrays are not lists\n",
    "\n",
    "Arrays may look similar to python lists. This first set of exercises aims to introduce to numpy arrays and to contrast\n",
    "such arrays to python lists"
   ]
  },
  {
   "cell_type": "code",
   "execution_count": 3,
   "id": "1d277a7f-3be2-4686-b2b9-b1b978696920",
   "metadata": {
    "deletable": false,
    "editable": true,
    "nbgrader": {
     "cell_type": "code",
     "checksum": "bc1f3df771fbaa1d15eb5d8963b4173b",
     "grade": false,
     "grade_id": "cell-ecfeb9f1134d25c3",
     "locked": false,
     "schema_version": 3,
     "solution": true,
     "task": false
    },
    "slideshow": {
     "slide_type": ""
    },
    "tags": [
     "remove-output"
    ]
   },
   "outputs": [
    {
     "ename": "NotImplementedError",
     "evalue": "",
     "output_type": "error",
     "traceback": [
      "\u001b[0;31m---------------------------------------------------------------------------\u001b[0m",
      "\u001b[0;31mNotImplementedError\u001b[0m                       Traceback (most recent call last)",
      "Cell \u001b[0;32mIn[3], line 4\u001b[0m\n\u001b[1;32m      1\u001b[0m \u001b[38;5;66;03m# Let a  = (1,2,3) and b = (9,8,7). Create two python lists and print their concatenation\u001b[39;00m\n\u001b[1;32m      2\u001b[0m \n\u001b[1;32m      3\u001b[0m \u001b[38;5;66;03m# YOUR CODE HERE\u001b[39;00m\n\u001b[0;32m----> 4\u001b[0m \u001b[38;5;28;01mraise\u001b[39;00m \u001b[38;5;167;01mNotImplementedError\u001b[39;00m()\n\u001b[1;32m      6\u001b[0m \u001b[38;5;66;03m# Compute the vector sum of a and b and print it\u001b[39;00m\n\u001b[1;32m      7\u001b[0m \n\u001b[1;32m      8\u001b[0m \u001b[38;5;66;03m# YOUR CODE HERE\u001b[39;00m\n\u001b[1;32m      9\u001b[0m \u001b[38;5;28;01mraise\u001b[39;00m \u001b[38;5;167;01mNotImplementedError\u001b[39;00m()\n",
      "\u001b[0;31mNotImplementedError\u001b[0m: "
     ]
    }
   ],
   "source": [
    "# Let a  = (1,2,3) and b = (9,8,7). Create two python lists and print their concatenation\n",
    "\n",
    "# YOUR CODE HERE\n",
    "raise NotImplementedError()\n",
    "\n",
    "# Compute the vector sum of a and b and print it\n",
    "\n",
    "# YOUR CODE HERE\n",
    "raise NotImplementedError()\n",
    "\n",
    "#iterate over all the elements of the list a and print each of them\n",
    "# YOUR CODE HERE\n",
    "raise NotImplementedError()\n",
    "\n",
    "\n",
    "# Append the value \"@\" to the list a and print the resulting list: \n",
    "# YOUR CODE HERE\n",
    "raise NotImplementedError()\n",
    "\n",
    "\n",
    "# Let x  = (1,2,3) and y = (9,8,7). Create two numpy arrays and print the concatenation of the two arrays\n",
    "\n",
    "# YOUR CODE HERE\n",
    "raise NotImplementedError()\n",
    "\n",
    "# Compute the vector sum of x and y and print it\n",
    "# YOUR CODE HERE\n",
    "raise NotImplementedError()\n",
    "\n",
    "#iterate over all the elements of the array x and print each of them\n",
    "# YOUR CODE HERE\n",
    "raise NotImplementedError()\n",
    "\n",
    "# Append the value \"@\" to the array x and print the result: \n",
    "# YOUR CODE HERE\n",
    "raise NotImplementedError()"
   ]
  },
  {
   "cell_type": "markdown",
   "id": "a08266a8-c9e6-4097-8954-d20087f47123",
   "metadata": {
    "editable": true,
    "slideshow": {
     "slide_type": ""
    },
    "tags": [
     "remove-output"
    ]
   },
   "source": [
    "Explain in words the main differences between numpy arrays and python lists"
   ]
  },
  {
   "cell_type": "markdown",
   "id": "47b13b38-743c-44ab-968c-85799eac0ba2",
   "metadata": {
    "deletable": false,
    "editable": true,
    "nbgrader": {
     "cell_type": "markdown",
     "checksum": "fac66496694ad1f6395b06f8b2f20020",
     "grade": true,
     "grade_id": "cell-81caae707a991e2b",
     "locked": false,
     "points": 5,
     "schema_version": 3,
     "solution": true,
     "task": false
    },
    "slideshow": {
     "slide_type": ""
    },
    "tags": []
   },
   "source": [
    "YOUR ANSWER HERE"
   ]
  },
  {
   "cell_type": "markdown",
   "id": "340c06d0-864d-4a75-9c37-045bc00b97e0",
   "metadata": {},
   "source": [
    "## Two dimensional arrays and matrices \n",
    "\n",
    "Arrays can also be 2D, and in this case, they are called matrices."
   ]
  },
  {
   "cell_type": "code",
   "execution_count": null,
   "id": "fd8267ab-bcdc-4579-9d51-09daed6a2b4c",
   "metadata": {
    "editable": true,
    "slideshow": {
     "slide_type": ""
    },
    "tags": []
   },
   "outputs": [],
   "source": [
    "# Matrix creation (2d)\n",
    "\n",
    "## by extension\n",
    "A = np.array([[1,2,3],[4,5,6],[7,8,9]])\n",
    "\n",
    "## constant and random initialization\n",
    "A = np.zeros( (10,10) )\n",
    "A = np.ones( (7,7) )\n",
    "A = np.full( (12,12) ,-2)\n",
    "A = np.random.random( (5,5) )\n",
    "\n",
    "## Matrix indexing\n",
    "i33 = A[3,3]    #indexes an element value\n",
    "l2  = A[2]      #indexes a line\n",
    "l2  = A[2,:]    #indexes a line\n",
    "c1  = A[:,1]    #indexes a column\n",
    "B   = A[:2,:3]  #slices a submatrix\n",
    "\n",
    "## Matrix structural manipulation\n",
    "X = np.zeros( (3,2) )\n",
    "Y = np.ones( (2,2) )\n",
    "C = np.concatenate( [X,Y],axis = 0)\n",
    "\n",
    "x,y,z = np.ones(3), np.zeros(3),np.ones(3)\n",
    "A = np.stack([x,y,z])\n"
   ]
  },
  {
   "cell_type": "markdown",
   "id": "cdd1171e-fbb5-4a7e-a29d-394f31d4f392",
   "metadata": {
    "editable": true,
    "slideshow": {
     "slide_type": ""
    },
    "tags": []
   },
   "source": [
    "Explain in words the difference between numpy concatenate and numpy stack"
   ]
  },
  {
   "cell_type": "markdown",
   "id": "45aa5229-76d6-45cd-bd09-6cecf3062180",
   "metadata": {
    "deletable": false,
    "nbgrader": {
     "cell_type": "markdown",
     "checksum": "33c3817d40cbc555539b393b94133ee5",
     "grade": true,
     "grade_id": "cell-22e80589f062b4e1",
     "locked": false,
     "points": 5,
     "schema_version": 3,
     "solution": true,
     "task": false
    }
   },
   "source": [
    "YOUR ANSWER HERE"
   ]
  },
  {
   "cell_type": "markdown",
   "id": "a2c98544-fa3d-41a2-9a71-86e6521c274a",
   "metadata": {},
   "source": [
    "Functions such as stack, concatenate, sum, prod work for matrices too. All of them have an axis argument. Explain what is the purpose of this argument"
   ]
  },
  {
   "cell_type": "markdown",
   "id": "024bc5e4-e1fc-456a-8a63-baacd8a83a02",
   "metadata": {
    "deletable": false,
    "nbgrader": {
     "cell_type": "markdown",
     "checksum": "602c68c48b0dcbc216507f402ae32a29",
     "grade": true,
     "grade_id": "cell-a6313823fe333bfb",
     "locked": false,
     "points": 5,
     "schema_version": 3,
     "solution": true,
     "task": false
    }
   },
   "source": [
    "YOUR ANSWER HERE"
   ]
  }
 ],
 "metadata": {
  "kernelspec": {
   "display_name": "Python 3 (ipykernel)",
   "language": "python",
   "name": "python3"
  },
  "language_info": {
   "codemirror_mode": {
    "name": "ipython",
    "version": 3
   },
   "file_extension": ".py",
   "mimetype": "text/x-python",
   "name": "python",
   "nbconvert_exporter": "python",
   "pygments_lexer": "ipython3",
   "version": "3.12.8"
  }
 },
 "nbformat": 4,
 "nbformat_minor": 5
}