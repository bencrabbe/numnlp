{
 "cells": [
  {
   "cell_type": "markdown",
   "id": "1842d94e",
   "metadata": {},
   "source": [
    "# Applications to graph analysis : the PageRank algorithm"
   ]
  },
  {
   "cell_type": "markdown",
   "id": "d361c2be",
   "metadata": {},
   "source": [
    "This chapter illustrates an application of eigenvalues and eigenvectors to graph analytics with the PageRank algorithm. PageRank is an algorithm that maps a set of web pages to real numbers that can be used to **rank** them.\n",
    "\n",
    "The algorithm views the web as a graph whose nodes are web pages and whose edges are hyperlinks leading from one page to another. It views the structure of the web graph as a matrix. The algorithm outputs a vector of scores, with one score for each web page and it turns out that the output vector is actually the first eigenvector of the graph adjacency matrix. "
   ]
  },
  {
   "cell_type": "markdown",
   "id": "b81262d8",
   "metadata": {},
   "source": []
  },
  {
   "cell_type": "markdown",
   "id": "81ea0bb0",
   "metadata": {},
   "source": []
  },
  {
   "cell_type": "code",
   "execution_count": 132,
   "id": "9711ec02",
   "metadata": {
    "tags": [
     "remove-input"
    ]
   },
   "outputs": [],
   "source": []
  },
  {
   "cell_type": "markdown",
   "id": "490eb254",
   "metadata": {},
   "source": [
    "\n",
    "\n",
    "\n"
   ]
  },
  {
   "cell_type": "code",
   "execution_count": 133,
   "id": "ca8baece",
   "metadata": {
    "scrolled": true
   },
   "outputs": [],
   "source": [
    "import wikipedia\n",
    "import networkx as nx\n",
    "from collections import Counter\n",
    "\n",
    "nodeset = [\"Luke Skywalker\",\"Admiral Ackbar\",\"Boba Fett\",\"C-3PO\",\"Chewbacca\",\"Count Dooku\",\"Darth Maul\",\"Darth Vader\",\"General Grievous\",\n",
    "        \"Greedo\",\"Han Solo\",\"Jabba the Hutt\",\"Jango Fett\",\"Jar Jar Binks\",\"Lando Calrissian\",\"Leia Organa\",\"Mace Windu\",\n",
    "        \"Obi-Wan Kenobi\",\"Padmé Amidala\",\"Palpatine\",\"Qui-Gon Jinn\",\"R2-D2\",\"Saw Gerrera\",\"Yoda\"]\n",
    "\n",
    "nodes2pages = {node:wikipedia.page(node,auto_suggest=False) for node in nodeset}\n",
    "\n",
    "graph = nx.DiGraph()\n",
    "\n",
    "for node in nodeset:\n",
    "    graph.add_node(node,title=node)\n",
    "    \n",
    "for node in nodeset:\n",
    "    \n",
    "    cpage = nodes2pages[node]\n",
    "    for target_node in nodeset:\n",
    "        if target_node != node:\n",
    "            if target_node.lower() in cpage.summary.lower():\n",
    "                graph.add_edge(node,target_node)\n",
    "            \n",
    "   "
   ]
  },
  {
   "cell_type": "code",
   "execution_count": 118,
   "id": "0f71f428",
   "metadata": {
    "scrolled": true
   },
   "outputs": [],
   "source": []
  },
  {
   "cell_type": "code",
   "execution_count": 119,
   "id": "c23d514f",
   "metadata": {
    "scrolled": true
   },
   "outputs": [
    {
     "name": "stdout",
     "output_type": "stream",
     "text": [
      "Luke Skywalker 0.1502455157661185\n",
      "Darth Vader 0.12562945433328943\n",
      "Obi-Wan Kenobi 0.12487872410469582\n",
      "Han Solo 0.07523002690619164\n",
      "Padmé Amidala 0.06839681938309114\n",
      "Palpatine 0.06640424273636232\n",
      "Qui-Gon Jinn 0.05333990965485608\n",
      "Yoda 0.05201285937883129\n",
      "Boba Fett 0.04335318904352394\n",
      "Chewbacca 0.03869676615973882\n",
      "Jabba the Hutt 0.03619950969992793\n",
      "Leia Organa 0.028860762014335347\n",
      "Jango Fett 0.02515084677828308\n",
      "Darth Maul 0.01896526570563594\n",
      "Count Dooku 0.0186530059093825\n",
      "Mace Windu 0.017416026948940986\n",
      "R2-D2 0.00810416554108812\n",
      "C-3PO 0.00810416554108812\n",
      "Saw Gerrera 0.006726457399103139\n",
      "Lando Calrissian 0.006726457399103139\n",
      "Jar Jar Binks 0.006726457399103139\n",
      "Greedo 0.006726457399103139\n",
      "General Grievous 0.006726457399103139\n",
      "Admiral Ackbar 0.006726457399103139\n"
     ]
    }
   ],
   "source": []
  },
  {
   "cell_type": "code",
   "execution_count": null,
   "id": "2f5907b5",
   "metadata": {},
   "outputs": [],
   "source": []
  },
  {
   "cell_type": "code",
   "execution_count": null,
   "id": "91aec26c",
   "metadata": {},
   "outputs": [],
   "source": []
  },
  {
   "cell_type": "code",
   "execution_count": null,
   "id": "39107f9d",
   "metadata": {},
   "outputs": [],
   "source": []
  }
 ],
 "metadata": {
  "celltoolbar": "Tags",
  "kernelspec": {
   "display_name": "Python 3",
   "language": "python",
   "name": "python3"
  },
  "language_info": {
   "codemirror_mode": {
    "name": "ipython",
    "version": 3
   },
   "file_extension": ".py",
   "mimetype": "text/x-python",
   "name": "python",
   "nbconvert_exporter": "python",
   "pygments_lexer": "ipython3",
   "version": "3.7.6"
  }
 },
 "nbformat": 4,
 "nbformat_minor": 5
}
