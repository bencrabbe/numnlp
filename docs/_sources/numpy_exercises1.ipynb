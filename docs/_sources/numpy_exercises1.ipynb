{
 "cells": [
  {
   "cell_type": "markdown",
   "id": "4b230589-fd02-4c12-927a-e8ad80efd467",
   "metadata": {},
   "source": [
    "# Numpy exercises\n",
    "\n",
    "\n",
    "## Arrays basics"
   ]
  },
  {
   "cell_type": "code",
   "execution_count": 13,
   "id": "15a310a7-9c80-479a-a3ab-c4d46f5f49bc",
   "metadata": {},
   "outputs": [
    {
     "name": "stdout",
     "output_type": "stream",
     "text": [
      "3\n"
     ]
    }
   ],
   "source": [
    "import numpy as np\n",
    "\n",
    "# Array creation (1d)\n",
    "\n",
    "## by extension\n",
    "x = np.array([1,7,512,-3])\n",
    "\n",
    "## constant and random initialization\n",
    "x = np.zeros(10)\n",
    "x = np.ones(7)\n",
    "x = np.full(12,-2)\n",
    "x = np.random.random(5)\n",
    "\n",
    "## ranges \n",
    "x = np.arange(-2,2,0.1)\n",
    "x = np.linspace(0,1,50)\n",
    "\n",
    "## Array indexing\n",
    "i3 = x[3]\n",
    "s  = x[20:30]\n",
    "s  = x[:10]\n",
    "s  = x[10:]\n",
    "\n",
    "## Array structural manipulations\n",
    "y  = np.concatenate([x,x])\n",
    "z  = np.split(x,[10,20,30])\n",
    "\n",
    "# Array and scalar vectorized operations\n",
    "\n",
    "x = np.array([-1,1,2,3,-1])\n",
    "\n",
    "## vectorized scalar multiplication/division\n",
    "y = 2 * x         \n",
    "y = x/2 \n",
    "\n",
    "## vectorized addition / substraction\n",
    "z =  x + y\n",
    "z =  x - y\n",
    "\n",
    "## aggregation\n",
    "\n",
    "S = x.sum()\n",
    "S = np.sum(x)\n",
    "P = x.prod()\n",
    "P = np.prod(x)\n",
    "\n",
    "## boolean arrays\n",
    "p = np.array([1,0,1],dtype=np.bool_)\n",
    "q = np.array([0,1,1],dtype=np.bool_)\n",
    "\n",
    "## boolean operations\n",
    "o = p | q  # or\n",
    "a = p & q  # and\n",
    "n = ~p     # not\n",
    "\n",
    "## boolean tests on arrays\n",
    "x = np.array([-1,1,2,3,-1])\n",
    "y = np.array([0,0,1,0,0])\n",
    "\n",
    "e   = (x == y)\n",
    "ex  = np.any(y > 0)   \n",
    "all = np.all(y >= 0)\n",
    "\n"
   ]
  },
  {
   "cell_type": "markdown",
   "id": "3fdc244b-b5df-417b-a045-cb1616bc3c87",
   "metadata": {},
   "source": [
    "## Vectorized operations \n",
    "Explain in words what is a vectorized operation in numpy. Explain why such operations are interesting over traditional loops.\n",
    "You may look at internet to find elements of explanations (but not copy from chat GPT or related software)."
   ]
  },
  {
   "cell_type": "code",
   "execution_count": null,
   "id": "7e51e415-f7c9-430d-bb30-857f4951d51d",
   "metadata": {
    "nbgrader": {
     "grade": true,
     "grade_id": "cell-3fdb807736e89049",
     "locked": false,
     "points": 5,
     "schema_version": 3,
     "solution": true,
     "task": false
    }
   },
   "outputs": [],
   "source": []
  },
  {
   "cell_type": "markdown",
   "id": "1ceff42e-3c24-4595-b977-66fd0d5464b6",
   "metadata": {},
   "source": [
    "## Arrays are not lists\n",
    "\n",
    "Arrays may look similar to python lists. This first set of exercises aims to introduce to numpy arrays and to contrast\n",
    "such arrays to python lists"
   ]
  },
  {
   "cell_type": "code",
   "execution_count": 4,
   "id": "1d277a7f-3be2-4686-b2b9-b1b978696920",
   "metadata": {
    "scrolled": true
   },
   "outputs": [
    {
     "name": "stdout",
     "output_type": "stream",
     "text": [
      "[1, 2, 3, 9, 8, 7]\n",
      "[10, 10, 10]\n",
      "1\n",
      "2\n",
      "3\n",
      "[1, 2, 3, '@']\n",
      "[1 2 3 9 8 7]\n",
      "[10 10 10]\n",
      "1\n",
      "2\n",
      "3\n"
     ]
    }
   ],
   "source": [
    "# Let a  = (1,2,3) and b = (9,8,7). Create two python lists and print their concatenation\n",
    "\n",
    "### BEGIN SOLUTION\n",
    "a  = [1,2,3]\n",
    "b  = [9,8,7]\n",
    "print(a + b)\n",
    "### END SOLUTION\n",
    "\n",
    "# Compute the vector sum of a and b and print it\n",
    "\n",
    "### BEGIN SOLUTION\n",
    "print([i + j for i,j in zip(a,b)])\n",
    "### END SOLUTION\n",
    "\n",
    "#iterate over all the elements of the list a and print each of them\n",
    "### BEGIN SOLUTION\n",
    "for elt in a:\n",
    "   print(elt)\n",
    "### END SOLUTION\n",
    "\n",
    "\n",
    "# Append the value \"@\" to the list a and print the resulting list: \n",
    "### BEGIN SOLUTION\n",
    "a.append('@')\n",
    "print(a)\n",
    "### END SOLUTION\n",
    "\n",
    "\n",
    "# Let x  = (1,2,3) and y = (9,8,7). Create two numpy arrays and print the concatenation of the two arrays\n",
    "\n",
    "### BEGIN SOLUTION\n",
    "x  = np.array([1,2,3])\n",
    "y  = np.array([9,8,7])\n",
    "print(np.concatenate([x,y]))\n",
    "### END SOLUTION\n",
    "\n",
    "# Compute the vector sum of x and y and print it\n",
    "### BEGIN SOLUTION\n",
    "print(x + y)\n",
    "### END SOLUTION\n",
    "\n",
    "#iterate over all the elements of the array x and print each of them\n",
    "### BEGIN SOLUTION\n",
    "for elt in x:\n",
    "   print(elt)\n",
    "### END SOLUTION\n",
    "\n",
    "# Append the value \"@\" to the array x and print the result: \n",
    "### BEGIN SOLUTION\n",
    "#this is not doable !\n",
    "### END SOLUTION"
   ]
  },
  {
   "cell_type": "markdown",
   "id": "a08266a8-c9e6-4097-8954-d20087f47123",
   "metadata": {},
   "source": [
    "Explain in words the main differences between numpy arrays and python lists"
   ]
  },
  {
   "cell_type": "code",
   "execution_count": null,
   "id": "5c2476f7-f308-48a2-97c6-8b778f679773",
   "metadata": {
    "nbgrader": {
     "grade": true,
     "grade_id": "cell-81caae707a991e2b",
     "locked": false,
     "points": 5,
     "schema_version": 3,
     "solution": true,
     "task": false
    }
   },
   "outputs": [],
   "source": []
  },
  {
   "cell_type": "markdown",
   "id": "340c06d0-864d-4a75-9c37-045bc00b97e0",
   "metadata": {},
   "source": [
    "## Two dimensional arrays and matrices \n",
    "\n",
    "Arrays can also be 2D, and in this case, they are called matrices."
   ]
  },
  {
   "cell_type": "code",
   "execution_count": 16,
   "id": "fd8267ab-bcdc-4579-9d51-09daed6a2b4c",
   "metadata": {},
   "outputs": [
    {
     "ename": "ValueError",
     "evalue": "all input arrays must have the same shape",
     "output_type": "error",
     "traceback": [
      "\u001b[0;31m---------------------------------------------------------------------------\u001b[0m",
      "\u001b[0;31mValueError\u001b[0m                                Traceback (most recent call last)",
      "Cell \u001b[0;32mIn[16], line 25\u001b[0m\n\u001b[1;32m     22\u001b[0m y \u001b[38;5;241m=\u001b[39m np\u001b[38;5;241m.\u001b[39mzeros( (\u001b[38;5;241m3\u001b[39m,\u001b[38;5;241m4\u001b[39m) )\n\u001b[1;32m     23\u001b[0m z \u001b[38;5;241m=\u001b[39m np\u001b[38;5;241m.\u001b[39mones( (\u001b[38;5;241m2\u001b[39m,\u001b[38;5;241m4\u001b[39m) )\n\u001b[0;32m---> 25\u001b[0m r \u001b[38;5;241m=\u001b[39m \u001b[43mnp\u001b[49m\u001b[38;5;241;43m.\u001b[39;49m\u001b[43mstack\u001b[49m\u001b[43m(\u001b[49m\u001b[43m[\u001b[49m\u001b[43mx\u001b[49m\u001b[43m,\u001b[49m\u001b[43my\u001b[49m\u001b[43m]\u001b[49m\u001b[43m)\u001b[49m\n\u001b[1;32m     26\u001b[0m s \u001b[38;5;241m=\u001b[39m np\u001b[38;5;241m.\u001b[39mconcatenate( [y,z] )\n",
      "File \u001b[0;32m<__array_function__ internals>:180\u001b[0m, in \u001b[0;36mstack\u001b[0;34m(*args, **kwargs)\u001b[0m\n",
      "File \u001b[0;32m/Library/Frameworks/Python.framework/Versions/3.10/lib/python3.10/site-packages/numpy/core/shape_base.py:426\u001b[0m, in \u001b[0;36mstack\u001b[0;34m(arrays, axis, out)\u001b[0m\n\u001b[1;32m    424\u001b[0m shapes \u001b[38;5;241m=\u001b[39m {arr\u001b[38;5;241m.\u001b[39mshape \u001b[38;5;28;01mfor\u001b[39;00m arr \u001b[38;5;129;01min\u001b[39;00m arrays}\n\u001b[1;32m    425\u001b[0m \u001b[38;5;28;01mif\u001b[39;00m \u001b[38;5;28mlen\u001b[39m(shapes) \u001b[38;5;241m!=\u001b[39m \u001b[38;5;241m1\u001b[39m:\n\u001b[0;32m--> 426\u001b[0m     \u001b[38;5;28;01mraise\u001b[39;00m \u001b[38;5;167;01mValueError\u001b[39;00m(\u001b[38;5;124m'\u001b[39m\u001b[38;5;124mall input arrays must have the same shape\u001b[39m\u001b[38;5;124m'\u001b[39m)\n\u001b[1;32m    428\u001b[0m result_ndim \u001b[38;5;241m=\u001b[39m arrays[\u001b[38;5;241m0\u001b[39m]\u001b[38;5;241m.\u001b[39mndim \u001b[38;5;241m+\u001b[39m \u001b[38;5;241m1\u001b[39m\n\u001b[1;32m    429\u001b[0m axis \u001b[38;5;241m=\u001b[39m normalize_axis_index(axis, result_ndim)\n",
      "\u001b[0;31mValueError\u001b[0m: all input arrays must have the same shape"
     ]
    }
   ],
   "source": [
    "# Matrix creation (2d)\n",
    "\n",
    "## by extension\n",
    "A = np.array([[1,2,3],[4,5,6],[7,8,9]])\n",
    "\n",
    "## constant and random initialization\n",
    "A = np.zeros( (10,10) )\n",
    "A = np.ones( (7,7) )\n",
    "A = np.full( (12,12) ,-2)\n",
    "A = np.random.random( (5,5) )\n",
    "\n",
    "## Matrix indexing\n",
    "i33 = A[3,3]    #indexes an element value\n",
    "l2  = A[2]      #indexes a line\n",
    "l2  = A[2,:]    #indexes a line\n",
    "c1  = A[:,1]    #indexes a column\n",
    "B   = A[:2,:3]  #slices a submatrix\n",
    "\n",
    "## Matrix structural manipulation\n",
    "x = np.ones( (3,2) )\n",
    "y = np.zeros( (3,) )\n",
    "z = np.ones( (2,4) )\n",
    "\n",
    "r = np.stack([x,y])\n",
    "s = np.concatenate( [y,z] )\n",
    "\n"
   ]
  },
  {
   "cell_type": "code",
   "execution_count": null,
   "id": "ed2fdd2c-597a-4312-a80f-db7158be0963",
   "metadata": {},
   "outputs": [],
   "source": []
  },
  {
   "cell_type": "code",
   "execution_count": null,
   "id": "c6e0886f-000d-4a8c-b814-9a00193d8142",
   "metadata": {},
   "outputs": [],
   "source": []
  }
 ],
 "metadata": {
  "kernelspec": {
   "display_name": "Python 3 (ipykernel)",
   "language": "python",
   "name": "python3"
  },
  "language_info": {
   "codemirror_mode": {
    "name": "ipython",
    "version": 3
   },
   "file_extension": ".py",
   "mimetype": "text/x-python",
   "name": "python",
   "nbconvert_exporter": "python",
   "pygments_lexer": "ipython3",
   "version": "3.10.0"
  }
 },
 "nbformat": 4,
 "nbformat_minor": 5
}
